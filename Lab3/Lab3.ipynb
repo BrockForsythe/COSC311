{
 "cells": [
  {
   "cell_type": "code",
   "execution_count": 1,
   "id": "4730960c",
   "metadata": {},
   "outputs": [],
   "source": [
    "import pandas as pd\n",
    "import numpy as np\n",
    "from matplotlib import pyplot as plt\n",
    "import stats"
   ]
  },
  {
   "cell_type": "code",
   "execution_count": 2,
   "id": "d45d1227",
   "metadata": {},
   "outputs": [
    {
     "data": {
      "text/html": [
       "<div>\n",
       "<style scoped>\n",
       "    .dataframe tbody tr th:only-of-type {\n",
       "        vertical-align: middle;\n",
       "    }\n",
       "\n",
       "    .dataframe tbody tr th {\n",
       "        vertical-align: top;\n",
       "    }\n",
       "\n",
       "    .dataframe thead th {\n",
       "        text-align: right;\n",
       "    }\n",
       "</style>\n",
       "<table border=\"1\" class=\"dataframe\">\n",
       "  <thead>\n",
       "    <tr style=\"text-align: right;\">\n",
       "      <th></th>\n",
       "      <th>Sepal Length</th>\n",
       "      <th>Sepal Width</th>\n",
       "      <th>Petal Length</th>\n",
       "      <th>Petal Width</th>\n",
       "      <th>Class</th>\n",
       "    </tr>\n",
       "  </thead>\n",
       "  <tbody>\n",
       "    <tr>\n",
       "      <th>0</th>\n",
       "      <td>5.1</td>\n",
       "      <td>3.5</td>\n",
       "      <td>1.4</td>\n",
       "      <td>0.2</td>\n",
       "      <td>Iris-setosa</td>\n",
       "    </tr>\n",
       "    <tr>\n",
       "      <th>1</th>\n",
       "      <td>4.9</td>\n",
       "      <td>3.0</td>\n",
       "      <td>1.4</td>\n",
       "      <td>0.2</td>\n",
       "      <td>Iris-setosa</td>\n",
       "    </tr>\n",
       "    <tr>\n",
       "      <th>2</th>\n",
       "      <td>4.7</td>\n",
       "      <td>3.2</td>\n",
       "      <td>1.3</td>\n",
       "      <td>0.2</td>\n",
       "      <td>Iris-setosa</td>\n",
       "    </tr>\n",
       "    <tr>\n",
       "      <th>3</th>\n",
       "      <td>4.6</td>\n",
       "      <td>3.1</td>\n",
       "      <td>1.5</td>\n",
       "      <td>0.2</td>\n",
       "      <td>Iris-setosa</td>\n",
       "    </tr>\n",
       "    <tr>\n",
       "      <th>4</th>\n",
       "      <td>5.0</td>\n",
       "      <td>3.6</td>\n",
       "      <td>1.4</td>\n",
       "      <td>0.2</td>\n",
       "      <td>Iris-setosa</td>\n",
       "    </tr>\n",
       "    <tr>\n",
       "      <th>...</th>\n",
       "      <td>...</td>\n",
       "      <td>...</td>\n",
       "      <td>...</td>\n",
       "      <td>...</td>\n",
       "      <td>...</td>\n",
       "    </tr>\n",
       "    <tr>\n",
       "      <th>145</th>\n",
       "      <td>6.7</td>\n",
       "      <td>3.0</td>\n",
       "      <td>5.2</td>\n",
       "      <td>2.3</td>\n",
       "      <td>Iris-virginica</td>\n",
       "    </tr>\n",
       "    <tr>\n",
       "      <th>146</th>\n",
       "      <td>6.3</td>\n",
       "      <td>2.5</td>\n",
       "      <td>5.0</td>\n",
       "      <td>1.9</td>\n",
       "      <td>Iris-virginica</td>\n",
       "    </tr>\n",
       "    <tr>\n",
       "      <th>147</th>\n",
       "      <td>6.5</td>\n",
       "      <td>3.0</td>\n",
       "      <td>5.2</td>\n",
       "      <td>2.0</td>\n",
       "      <td>Iris-virginica</td>\n",
       "    </tr>\n",
       "    <tr>\n",
       "      <th>148</th>\n",
       "      <td>6.2</td>\n",
       "      <td>3.4</td>\n",
       "      <td>5.4</td>\n",
       "      <td>2.3</td>\n",
       "      <td>Iris-virginica</td>\n",
       "    </tr>\n",
       "    <tr>\n",
       "      <th>149</th>\n",
       "      <td>5.9</td>\n",
       "      <td>3.0</td>\n",
       "      <td>5.1</td>\n",
       "      <td>1.8</td>\n",
       "      <td>Iris-virginica</td>\n",
       "    </tr>\n",
       "  </tbody>\n",
       "</table>\n",
       "<p>150 rows × 5 columns</p>\n",
       "</div>"
      ],
      "text/plain": [
       "     Sepal Length  Sepal Width  Petal Length  Petal Width           Class\n",
       "0             5.1          3.5           1.4          0.2     Iris-setosa\n",
       "1             4.9          3.0           1.4          0.2     Iris-setosa\n",
       "2             4.7          3.2           1.3          0.2     Iris-setosa\n",
       "3             4.6          3.1           1.5          0.2     Iris-setosa\n",
       "4             5.0          3.6           1.4          0.2     Iris-setosa\n",
       "..            ...          ...           ...          ...             ...\n",
       "145           6.7          3.0           5.2          2.3  Iris-virginica\n",
       "146           6.3          2.5           5.0          1.9  Iris-virginica\n",
       "147           6.5          3.0           5.2          2.0  Iris-virginica\n",
       "148           6.2          3.4           5.4          2.3  Iris-virginica\n",
       "149           5.9          3.0           5.1          1.8  Iris-virginica\n",
       "\n",
       "[150 rows x 5 columns]"
      ]
     },
     "execution_count": 2,
     "metadata": {},
     "output_type": "execute_result"
    }
   ],
   "source": [
    "iris_data = pd.read_csv('iris.data', header = None,\n",
    "                       names = ['Sepal Length', 'Sepal Width', 'Petal Length', 'Petal Width', 'Class']);\n",
    "iris_data"
   ]
  },
  {
   "cell_type": "markdown",
   "id": "9e01b5d1",
   "metadata": {},
   "source": [
    "### Sepal Length With Sepal Width"
   ]
  },
  {
   "cell_type": "code",
   "execution_count": 3,
   "id": "1ddd3615",
   "metadata": {},
   "outputs": [
    {
     "data": {
      "text/plain": [
       "Text(0, 0.5, 'Sepal Width')"
      ]
     },
     "execution_count": 3,
     "metadata": {},
     "output_type": "execute_result"
    },
    {
     "data": {
      "image/png": "[encoded data removed]",
      "text/plain": [
       "<Figure size 432x288 with 1 Axes>"
      ]
     },
     "metadata": {
      "needs_background": "light"
     },
     "output_type": "display_data"
    }
   ],
   "source": [
    "setosa = iris_data[iris_data['Class'] == 'Iris-setosa']\n",
    "virginica = iris_data[iris_data['Class'] == 'Iris-virginica']\n",
    "versicolor = iris_data[iris_data['Class'] == 'Iris-versicolor']\n",
    "\n",
    "plt.scatter(x=setosa['Sepal Length'], y=setosa['Sepal Width'], color='b', marker = \"s\")\n",
    "plt.scatter(x=virginica['Sepal Length'], y=virginica['Sepal Width'], color='r', marker = \"o\")\n",
    "plt.scatter(x=versicolor['Sepal Length'], y=versicolor['Sepal Width'], color='#39FF14', marker = \"D\")\n",
    "plt.legend(['setosa', 'viginica', 'versicolor'])\n",
    "plt.title(\"Sepal length vs width\")\n",
    "plt.xlabel('Sepal Length')\n",
    "plt.ylabel('Sepal Width')"
   ]
  },
  {
   "cell_type": "markdown",
   "id": "884fbabf",
   "metadata": {},
   "source": [
    "### Sepal Length with Petal Length"
   ]
  },
  {
   "cell_type": "code",
   "execution_count": 4,
   "id": "d33c6760",
   "metadata": {},
   "outputs": [
    {
     "data": {
      "text/plain": [
       "Text(0, 0.5, 'Petal Length')"
      ]
     },
     "execution_count": 4,
     "metadata": {},
     "output_type": "execute_result"
    },
    {
     "data": {
      "image/png": "[encoded data removed]",
      "text/plain": [
       "<Figure size 432x288 with 1 Axes>"
      ]
     },
     "metadata": {
      "needs_background": "light"
     },
     "output_type": "display_data"
    }
   ],
   "source": [
    "plt.scatter(x=setosa['Sepal Length'], y=setosa['Petal Length'], color='b', marker = \"s\")\n",
    "plt.scatter(x=virginica['Sepal Length'], y=virginica['Petal Length'], color='r', marker = \"o\")\n",
    "plt.scatter(x=versicolor['Sepal Length'], y=versicolor['Petal Length'], color='#39FF14', marker = \"D\")\n",
    "plt.legend(['setosa', 'viginica', 'versicolor'])\n",
    "plt.title(\"Sepal length vs Petal Length\")\n",
    "plt.xlabel('Sepal Length')\n",
    "plt.ylabel('Petal Length')"
   ]
  },
  {
   "cell_type": "markdown",
   "id": "618bd5b2",
   "metadata": {},
   "source": [
    "### Sepal Length with Petal Width"
   ]
  },
  {
   "cell_type": "code",
   "execution_count": 5,
   "id": "16622a07",
   "metadata": {},
   "outputs": [
    {
     "data": {
      "text/plain": [
       "Text(0, 0.5, 'Petal Width')"
      ]
     },
     "execution_count": 5,
     "metadata": {},
     "output_type": "execute_result"
    },
    {
     "data": {
      "image/png": "[encoded data removed]",
      "text/plain": [
       "<Figure size 432x288 with 1 Axes>"
      ]
     },
     "metadata": {
      "needs_background": "light"
     },
     "output_type": "display_data"
    }
   ],
   "source": [
    "plt.scatter(x=setosa['Sepal Length'], y=setosa['Petal Width'], color='b', marker = \"s\")\n",
    "plt.scatter(x=virginica['Sepal Length'], y=virginica['Petal Width'], color='r', marker = \"o\")\n",
    "plt.scatter(x=versicolor['Sepal Length'], y=versicolor['Petal Width'], color='#39FF14', marker = \"D\")\n",
    "plt.legend(['setosa', 'viginica', 'versicolor'])\n",
    "plt.title(\"Sepal length vs Petal Width\")\n",
    "plt.xlabel('Sepal Length')\n",
    "plt.ylabel('Petal Width')"
   ]
  },
  {
   "cell_type": "markdown",
   "id": "fba16583",
   "metadata": {},
   "source": [
    "### Sepal Width with Petal Length"
   ]
  },
  {
   "cell_type": "code",
   "execution_count": 6,
   "id": "367bf428",
   "metadata": {},
   "outputs": [
    {
     "data": {
      "text/plain": [
       "Text(0, 0.5, 'Petal Length')"
      ]
     },
     "execution_count": 6,
     "metadata": {},
     "output_type": "execute_result"
    },
    {
     "data": {
      "image/png": "[encoded data removed]",
      "text/plain": [
       "<Figure size 432x288 with 1 Axes>"
      ]
     },
     "metadata": {
      "needs_background": "light"
     },
     "output_type": "display_data"
    }
   ],
   "source": [
    "plt.scatter(x=setosa['Sepal Width'], y=setosa['Petal Length'], color='b', marker = \"s\")\n",
    "plt.scatter(x=virginica['Sepal Width'], y=virginica['Petal Length'], color='r', marker = \"o\")\n",
    "plt.scatter(x=versicolor['Sepal Width'], y=versicolor['Petal Length'], color='#39FF14', marker = \"D\")\n",
    "plt.legend(['setosa', 'viginica', 'versicolor'])\n",
    "plt.title(\"Sepal Width vs Petal Length\")\n",
    "plt.xlabel('Sepal Width')\n",
    "plt.ylabel('Petal Length')"
   ]
  },
  {
   "cell_type": "markdown",
   "id": "12f90255",
   "metadata": {},
   "source": [
    "### Sepal Width with Petal Width"
   ]
  },
  {
   "cell_type": "code",
   "execution_count": 7,
   "id": "1f711531",
   "metadata": {},
   "outputs": [
    {
     "data": {
      "text/plain": [
       "Text(0, 0.5, 'Petal Width')"
      ]
     },
     "execution_count": 7,
     "metadata": {},
     "output_type": "execute_result"
    },
    {
     "data": {
      "image/png": "[encoded data removed]",
      "text/plain": [
       "<Figure size 432x288 with 1 Axes>"
      ]
     },
     "metadata": {
      "needs_background": "light"
     },
     "output_type": "display_data"
    }
   ],
   "source": [
    "plt.scatter(x=setosa['Sepal Width'], y=setosa['Petal Width'], color='b', marker = \"s\")\n",
    "plt.scatter(x=virginica['Sepal Width'], y=virginica['Petal Width'], color='r', marker = \"o\")\n",
    "plt.scatter(x=versicolor['Sepal Width'], y=versicolor['Petal Width'], color='#39FF14', marker = \"D\")\n",
    "plt.legend(['setosa', 'viginica', 'versicolor'])\n",
    "plt.title(\"Sepal Width vs Petal Width\")\n",
    "plt.xlabel('Sepal Width')\n",
    "plt.ylabel('Petal Width')"
   ]
  },
  {
   "cell_type": "markdown",
   "id": "582a4fd0",
   "metadata": {},
   "source": [
    "### Petal Length with Petal Width"
   ]
  },
  {
   "cell_type": "code",
   "execution_count": 8,
   "id": "08d49a89",
   "metadata": {},
   "outputs": [
    {
     "data": {
      "text/plain": [
       "Text(0, 0.5, 'Petal Width')"
      ]
     },
     "execution_count": 8,
     "metadata": {},
     "output_type": "execute_result"
    },
    {
     "data": {
      "image/png": "[encoded data removed]",
      "text/plain": [
       "<Figure size 432x288 with 1 Axes>"
      ]
     },
     "metadata": {
      "needs_background": "light"
     },
     "output_type": "display_data"
    }
   ],
   "source": [
    "plt.scatter(x=setosa['Petal Length'], y=setosa['Petal Width'], color='b', marker = \"s\")\n",
    "plt.scatter(x=virginica['Petal Length'], y=virginica['Petal Width'], color='r', marker = \"o\")\n",
    "plt.scatter(x=versicolor['Petal Length'], y=versicolor['Petal Width'], color='#39FF14', marker = \"D\")\n",
    "plt.legend(['setosa', 'viginica', 'versicolor'])\n",
    "plt.title(\"Petal length vs Petal Width\")\n",
    "plt.xlabel('Petal Length')\n",
    "plt.ylabel('Petal Width')"
   ]
  },
  {
   "cell_type": "markdown",
   "id": "a5f0c32f",
   "metadata": {},
   "source": [
    "### Find correlation coefficient for each pair of measurements when class is disregarded"
   ]
  },
  {
   "cell_type": "code",
   "execution_count": 9,
   "id": "c14deb05",
   "metadata": {},
   "outputs": [
    {
     "name": "stdout",
     "output_type": "stream",
     "text": [
      "Sepal Length with Sepal Width is:  -0.10936924995064935\n",
      "Sepal Length with Petal Length is:  0.8717541573048718\n",
      "Sepal Length with Petal Width is:  0.8179536333691633\n",
      "Sepal Width with Petal Length is:  -0.42051609640115495\n",
      "Sepal Width with Petal Width is:  -0.3565440896138055\n",
      "Petal Length with Petal Width is:  0.9627570970509667\n"
     ]
    }
   ],
   "source": [
    "slsw = stats.correlation(iris_data['Sepal Length'], iris_data['Sepal Width'])\n",
    "print(\"Sepal Length with Sepal Width is: \",slsw)\n",
    "slpl = stats.correlation(iris_data['Sepal Length'], iris_data['Petal Length'])\n",
    "print(\"Sepal Length with Petal Length is: \", slpl)\n",
    "slpw = stats.correlation(iris_data['Sepal Length'], iris_data['Petal Width'])\n",
    "print(\"Sepal Length with Petal Width is: \", slpw)\n",
    "swpl = stats.correlation(iris_data['Sepal Width'], iris_data['Petal Length'])\n",
    "print(\"Sepal Width with Petal Length is: \", swpl)\n",
    "swpw = stats.correlation(iris_data['Sepal Width'], iris_data['Petal Width'])\n",
    "print(\"Sepal Width with Petal Width is: \", swpw)\n",
    "plpw = stats.correlation(iris_data['Petal Length'], iris_data['Petal Width'])\n",
    "print(\"Petal Length with Petal Width is: \", plpw)"
   ]
  },
  {
   "cell_type": "markdown",
   "id": "a7cd6217",
   "metadata": {},
   "source": [
    "##  What is the correlation coefficient for each pair of measurements when taking into account only measurements within the same class"
   ]
  },
  {
   "cell_type": "code",
   "execution_count": 23,
   "id": "5c5597aa",
   "metadata": {},
   "outputs": [
    {
     "name": "stdout",
     "output_type": "stream",
     "text": [
      "Sepal Length with Sepal Width is:  -0.10936924995064935\n",
      "Setosa Sepal Length and Width correlation is:  0.7467803732639269\n",
      "Virginica Sepal Length and Width correlation is:  0.45722781639411275\n",
      "Versicolor Sepal Length and Width correlation is:  0.5259107172828243\n"
     ]
    }
   ],
   "source": [
    "setosa = iris_data[iris_data['Class'] == 'Iris-setosa'].reset_index()\n",
    "virginica = iris_data[iris_data['Class'] == 'Iris-virginica'].reset_index()\n",
    "versicolor = iris_data[iris_data['Class'] == 'Iris-versicolor'].reset_index()\n",
    "\n",
    "slsw = stats.correlation(iris_data['Sepal Length'], iris_data['Sepal Width'])\n",
    "print(\"Sepal Length with Sepal Width is: \",slsw)\n",
    "\n",
    "Setosa = stats.correlation(setosa['Sepal Length'], setosa['Sepal Width'])\n",
    "print(\"Setosa Sepal Length and Width correlation is: \", Setosa)\n",
    "\n",
    "Virginica = stats.correlation(virginica['Sepal Length'], virginica['Sepal Width'])\n",
    "print(\"Virginica Sepal Length and Width correlation is: \", Virginica)\n",
    "\n",
    "Versicolor = stats.correlation(versicolor['Sepal Length'], versicolor['Sepal Width'])\n",
    "print(\"Versicolor Sepal Length and Width correlation is: \", Versicolor)"
   ]
  },
  {
   "cell_type": "markdown",
   "id": "134cc996",
   "metadata": {},
   "source": [
    "## For each of the four numerical categories, compute the mean with a 95% confidence interval and show them in a bar chart.\n"
   ]
  },
  {
   "cell_type": "code",
   "execution_count": 59,
   "id": "c5aa5cae",
   "metadata": {},
   "outputs": [],
   "source": [
    "import random\n",
    "import math\n",
    "#Confidence interval with 95% defined as [xbar - 1.96 * SE, xbar + 1.96 * SE]\n",
    "#Find Std first\n",
    "def find_stddev(df, column_name, samples, trials):\n",
    "    std_dev_list = []\n",
    "    temp = []\n",
    "    for i in range(trials):\n",
    "        temp = [df[column_name].values[random.randint(0,len(df[column_name].values)-1)] for j in range(samples)]\n",
    "        std_dev_list.append(sum(temp) / len(temp))\n",
    "    \n",
    "    return np.std(std_dev_list) "
   ]
  },
  {
   "cell_type": "code",
   "execution_count": 58,
   "id": "16d7c418",
   "metadata": {},
   "outputs": [
    {
     "name": "stdout",
     "output_type": "stream",
     "text": [
      "95% Confidence interval of general Sepal length:  (5.824554556797141, 5.862112109869527)\n",
      "95% Confidence interval of general Sepal Width:  (3.045395310395155, 3.0626046896048456)\n",
      "95% Confidence interval of general Petal length:  (3.7188311624825308, 3.7985021708508016)\n",
      "95% Confidence interval of general Petal Width:  (1.1836128104814985, 1.213720522851835)\n",
      "Means:  [5.843333333333334, 3.0540000000000003, 3.758666666666666, 1.1986666666666668]\n",
      "Interval distance:  [0.03755755307238573, 0.017209379209690567, 0.07967100836827079, 0.030107712370336603]\n"
     ]
    }
   ],
   "source": [
    "means = []\n",
    "interval_lengths = []\n",
    "# Sepal Length\n",
    "n = len(iris_data[['Sepal Length']].values) # Sample size\n",
    "sl_Xbar = iris_data[['Sepal Length']].values.mean()\n",
    "means.append(sl_Xbar)\n",
    "\n",
    "sl_stdev = find_stddev(iris_data, 'Sepal Length', 50, 50)\n",
    "c_interval = (sl_Xbar - (1.96 * sl_stdev / math.sqrt(n)), sl_Xbar + (1.96 * sl_stdev / math.sqrt(n)))\n",
    "interval_lengths = [c_interval[1] - c_interval[0]]\n",
    "print(\"95% Confidence interval of general Sepal length: \", c_interval)\n",
    "\n",
    "#Sepal Width\n",
    "n = len(iris_data[['Sepal Width']].values)\n",
    "sw_Xbar = iris_data[['Sepal Width']].values.mean()\n",
    "means.append(sw_Xbar)\n",
    "\n",
    "sw_stdev = find_stddev(iris_data,'Sepal Width', 50, 50)\n",
    "c_interval = (sw_Xbar - (1.96 * sw_stdev / math.sqrt(n)), sw_Xbar + (1.96 * sw_stdev / math.sqrt(n)))\n",
    "interval_lengths.append(c_interval[1] - c_interval[0])\n",
    "print(\"95% Confidence interval of general Sepal Width: \", c_interval)\n",
    "\n",
    "#Petal Length\n",
    "n = len(iris_data[['Petal Length']].values)\n",
    "pl_Xbar = iris_data[['Petal Length']].values.mean()\n",
    "means.append(pl_Xbar)\n",
    "\n",
    "pl_stdev = find_stddev(iris_data,'Petal Length', 50, 50)\n",
    "c_interval = (pl_Xbar - (1.96 * pl_stdev / math.sqrt(n)), pl_Xbar + (1.96 * pl_stdev / math.sqrt(n)))\n",
    "interval_lengths.append(c_interval[1] - c_interval[0])\n",
    "print(\"95% Confidence interval of general Petal length: \", c_interval)\n",
    "\n",
    "#Petal Width\n",
    "n = len(iris_data[['Petal Width']].values)\n",
    "pw_Xbar = iris_data[['Petal Width']].values.mean()\n",
    "means.append(pw_Xbar)\n",
    "\n",
    "pw_stdev = find_stddev(iris_data,'Petal Width', 50, 50)\n",
    "c_interval = (pw_Xbar - (1.96 * pw_stdev / math.sqrt(n)), pw_Xbar + (1.96 * pw_stdev / math.sqrt(n)))\n",
    "interval_lengths.append(c_interval[1] - c_interval[0])\n",
    "print(\"95% Confidence interval of general Petal Width: \", c_interval)\n",
    "\n",
    "print(\"Means: \", means)\n",
    "print(\"Interval distance: \", interval_lengths)"
   ]
  },
  {
   "cell_type": "code",
   "execution_count": 57,
   "id": "aa05ef49",
   "metadata": {},
   "outputs": [
    {
     "data": {
      "image/png": "[encoded data removed]",
      "text/plain": [
       "<Figure size 432x288 with 1 Axes>"
      ]
     },
     "metadata": {
      "needs_background": "light"
     },
     "output_type": "display_data"
    }
   ],
   "source": [
    "plt.bar(['Sepal Length', 'Sepal Width', 'Petal Length', 'Petal Width'], means, yerr=interval_lengths, capsize=10, width=0.5)\n",
    "plt.title('95% Confidence Intervals for Iris Data Attributes')\n",
    "plt.xlabel('Attributes')\n",
    "plt.ylabel('Mean')\n",
    "plt.show()"
   ]
  },
  {
   "cell_type": "code",
   "execution_count": null,
   "id": "8334faea",
   "metadata": {},
   "outputs": [],
   "source": []
  }
 ],
 "metadata": {
  "kernelspec": {
   "display_name": "Python 3",
   "language": "python",
   "name": "python3"
  },
  "language_info": {
   "codemirror_mode": {
    "name": "ipython",
    "version": 3
   },
   "file_extension": ".py",
   "mimetype": "text/x-python",
   "name": "python",
   "nbconvert_exporter": "python",
   "pygments_lexer": "ipython3",
   "version": "3.8.8"
  }
 },
 "nbformat": 4,
 "nbformat_minor": 5
}
