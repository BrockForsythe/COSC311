{
 "cells": [
  {
   "cell_type": "code",
   "execution_count": 1,
   "id": "4730960c",
   "metadata": {},
   "outputs": [],
   "source": [
    "import pandas as pd\n",
    "import numpy as np\n",
    "from matplotlib import pyplot as plt\n",
    "import stats"
   ]
  },
  {
   "cell_type": "code",
   "execution_count": 2,
   "id": "d45d1227",
   "metadata": {},
   "outputs": [
    {
     "data": {
      "text/html": [
       "<div>\n",
       "<style scoped>\n",
       "    .dataframe tbody tr th:only-of-type {\n",
       "        vertical-align: middle;\n",
       "    }\n",
       "\n",
       "    .dataframe tbody tr th {\n",
       "        vertical-align: top;\n",
       "    }\n",
       "\n",
       "    .dataframe thead th {\n",
       "        text-align: right;\n",
       "    }\n",
       "</style>\n",
       "<table border=\"1\" class=\"dataframe\">\n",
       "  <thead>\n",
       "    <tr style=\"text-align: right;\">\n",
       "      <th></th>\n",
       "      <th>Sepal Length</th>\n",
       "      <th>Sepal Width</th>\n",
       "      <th>Petal Length</th>\n",
       "      <th>Petal Width</th>\n",
       "      <th>Class</th>\n",
       "    </tr>\n",
       "  </thead>\n",
       "  <tbody>\n",
       "    <tr>\n",
       "      <th>0</th>\n",
       "      <td>5.1</td>\n",
       "      <td>3.5</td>\n",
       "      <td>1.4</td>\n",
       "      <td>0.2</td>\n",
       "      <td>Iris-setosa</td>\n",
       "    </tr>\n",
       "    <tr>\n",
       "      <th>1</th>\n",
       "      <td>4.9</td>\n",
       "      <td>3.0</td>\n",
       "      <td>1.4</td>\n",
       "      <td>0.2</td>\n",
       "      <td>Iris-setosa</td>\n",
       "    </tr>\n",
       "    <tr>\n",
       "      <th>2</th>\n",
       "      <td>4.7</td>\n",
       "      <td>3.2</td>\n",
       "      <td>1.3</td>\n",
       "      <td>0.2</td>\n",
       "      <td>Iris-setosa</td>\n",
       "    </tr>\n",
       "    <tr>\n",
       "      <th>3</th>\n",
       "      <td>4.6</td>\n",
       "      <td>3.1</td>\n",
       "      <td>1.5</td>\n",
       "      <td>0.2</td>\n",
       "      <td>Iris-setosa</td>\n",
       "    </tr>\n",
       "    <tr>\n",
       "      <th>4</th>\n",
       "      <td>5.0</td>\n",
       "      <td>3.6</td>\n",
       "      <td>1.4</td>\n",
       "      <td>0.2</td>\n",
       "      <td>Iris-setosa</td>\n",
       "    </tr>\n",
       "    <tr>\n",
       "      <th>...</th>\n",
       "      <td>...</td>\n",
       "      <td>...</td>\n",
       "      <td>...</td>\n",
       "      <td>...</td>\n",
       "      <td>...</td>\n",
       "    </tr>\n",
       "    <tr>\n",
       "      <th>145</th>\n",
       "      <td>6.7</td>\n",
       "      <td>3.0</td>\n",
       "      <td>5.2</td>\n",
       "      <td>2.3</td>\n",
       "      <td>Iris-virginica</td>\n",
       "    </tr>\n",
       "    <tr>\n",
       "      <th>146</th>\n",
       "      <td>6.3</td>\n",
       "      <td>2.5</td>\n",
       "      <td>5.0</td>\n",
       "      <td>1.9</td>\n",
       "      <td>Iris-virginica</td>\n",
       "    </tr>\n",
       "    <tr>\n",
       "      <th>147</th>\n",
       "      <td>6.5</td>\n",
       "      <td>3.0</td>\n",
       "      <td>5.2</td>\n",
       "      <td>2.0</td>\n",
       "      <td>Iris-virginica</td>\n",
       "    </tr>\n",
       "    <tr>\n",
       "      <th>148</th>\n",
       "      <td>6.2</td>\n",
       "      <td>3.4</td>\n",
       "      <td>5.4</td>\n",
       "      <td>2.3</td>\n",
       "      <td>Iris-virginica</td>\n",
       "    </tr>\n",
       "    <tr>\n",
       "      <th>149</th>\n",
       "      <td>5.9</td>\n",
       "      <td>3.0</td>\n",
       "      <td>5.1</td>\n",
       "      <td>1.8</td>\n",
       "      <td>Iris-virginica</td>\n",
       "    </tr>\n",
       "  </tbody>\n",
       "</table>\n",
       "<p>150 rows × 5 columns</p>\n",
       "</div>"
      ],
      "text/plain": [
       "     Sepal Length  Sepal Width  Petal Length  Petal Width           Class\n",
       "0             5.1          3.5           1.4          0.2     Iris-setosa\n",
       "1             4.9          3.0           1.4          0.2     Iris-setosa\n",
       "2             4.7          3.2           1.3          0.2     Iris-setosa\n",
       "3             4.6          3.1           1.5          0.2     Iris-setosa\n",
       "4             5.0          3.6           1.4          0.2     Iris-setosa\n",
       "..            ...          ...           ...          ...             ...\n",
       "145           6.7          3.0           5.2          2.3  Iris-virginica\n",
       "146           6.3          2.5           5.0          1.9  Iris-virginica\n",
       "147           6.5          3.0           5.2          2.0  Iris-virginica\n",
       "148           6.2          3.4           5.4          2.3  Iris-virginica\n",
       "149           5.9          3.0           5.1          1.8  Iris-virginica\n",
       "\n",
       "[150 rows x 5 columns]"
      ]
     },
     "execution_count": 2,
     "metadata": {},
     "output_type": "execute_result"
    }
   ],
   "source": [
    "iris_data = pd.read_csv('iris.data', header = None,\n",
    "                       names = ['Sepal Length', 'Sepal Width', 'Petal Length', 'Petal Width', 'Class']);\n",
    "iris_data"
   ]
  },
  {
   "cell_type": "markdown",
   "id": "9e01b5d1",
   "metadata": {},
   "source": [
    "### Sepal Length With Sepal Width"
   ]
  },
  {
   "cell_type": "code",
   "execution_count": 3,
   "id": "1ddd3615",
   "metadata": {},
   "outputs": [
    {
     "data": {
      "text/plain": [
       "Text(0, 0.5, 'Sepal Width')"
      ]
     },
     "execution_count": 3,
     "metadata": {},
     "output_type": "execute_result"
    },
    {
     "data": {
      "image/png": "[encoded data removed]",
      "text/plain": [
       "<Figure size 432x288 with 1 Axes>"
      ]
     },
     "metadata": {
      "needs_background": "light"
     },
     "output_type": "display_data"
    }
   ],
   "source": [
    "setosa = iris_data[iris_data['Class'] == 'Iris-setosa']\n",
    "virginica = iris_data[iris_data['Class'] == 'Iris-virginica']\n",
    "versicolor = iris_data[iris_data['Class'] == 'Iris-versicolor']\n",
    "\n",
    "plt.scatter(x=setosa['Sepal Length'], y=setosa['Sepal Width'], color='b', marker = \"s\")\n",
    "plt.scatter(x=virginica['Sepal Length'], y=virginica['Sepal Width'], color='r', marker = \"o\")\n",
    "plt.scatter(x=versicolor['Sepal Length'], y=versicolor['Sepal Width'], color='#39FF14', marker = \"D\")\n",
    "plt.legend(['setosa', 'viginica', 'versicolor'])\n",
    "plt.title(\"Sepal length vs width\")\n",
    "plt.xlabel('Sepal Length')\n",
    "plt.ylabel('Sepal Width')"
   ]
  },
  {
   "cell_type": "markdown",
   "id": "884fbabf",
   "metadata": {},
   "source": [
    "### Sepal Length with Petal Length"
   ]
  },
  {
   "cell_type": "code",
   "execution_count": 4,
   "id": "d33c6760",
   "metadata": {},
   "outputs": [
    {
     "data": {
      "text/plain": [
       "Text(0, 0.5, 'Petal Length')"
      ]
     },
     "execution_count": 4,
     "metadata": {},
     "output_type": "execute_result"
    },
    {
     "data": {
      "image/png": "[encoded data removed]",
      "text/plain": [
       "<Figure size 432x288 with 1 Axes>"
      ]
     },
     "metadata": {
      "needs_background": "light"
     },
     "output_type": "display_data"
    }
   ],
   "source": [
    "plt.scatter(x=setosa['Sepal Length'], y=setosa['Petal Length'], color='b', marker = \"s\")\n",
    "plt.scatter(x=virginica['Sepal Length'], y=virginica['Petal Length'], color='r', marker = \"o\")\n",
    "plt.scatter(x=versicolor['Sepal Length'], y=versicolor['Petal Length'], color='#39FF14', marker = \"D\")\n",
    "plt.legend(['setosa', 'viginica', 'versicolor'])\n",
    "plt.title(\"Sepal length vs Petal Length\")\n",
    "plt.xlabel('Sepal Length')\n",
    "plt.ylabel('Petal Length')"
   ]
  },
  {
   "cell_type": "markdown",
   "id": "618bd5b2",
   "metadata": {},
   "source": [
    "### Sepal Length with Petal Width"
   ]
  },
  {
   "cell_type": "code",
   "execution_count": 5,
   "id": "16622a07",
   "metadata": {},
   "outputs": [
    {
     "data": {
      "text/plain": [
       "Text(0, 0.5, 'Petal Width')"
      ]
     },
     "execution_count": 5,
     "metadata": {},
     "output_type": "execute_result"
    },
    {
     "data": {
      "image/png": "[encoded data removed]",
      "text/plain": [
       "<Figure size 432x288 with 1 Axes>"
      ]
     },
     "metadata": {
      "needs_background": "light"
     },
     "output_type": "display_data"
    }
   ],
   "source": [
    "plt.scatter(x=setosa['Sepal Length'], y=setosa['Petal Width'], color='b', marker = \"s\")\n",
    "plt.scatter(x=virginica['Sepal Length'], y=virginica['Petal Width'], color='r', marker = \"o\")\n",
    "plt.scatter(x=versicolor['Sepal Length'], y=versicolor['Petal Width'], color='#39FF14', marker = \"D\")\n",
    "plt.legend(['setosa', 'viginica', 'versicolor'])\n",
    "plt.title(\"Sepal length vs Petal Width\")\n",
    "plt.xlabel('Sepal Length')\n",
    "plt.ylabel('Petal Width')"
   ]
  },
  {
   "cell_type": "markdown",
   "id": "fba16583",
   "metadata": {},
   "source": [
    "### Sepal Width with Petal Length"
   ]
  },
  {
   "cell_type": "code",
   "execution_count": 6,
   "id": "367bf428",
   "metadata": {},
   "outputs": [
    {
     "data": {
      "text/plain": [
       "Text(0, 0.5, 'Petal Length')"
      ]
     },
     "execution_count": 6,
     "metadata": {},
     "output_type": "execute_result"
    },
    {
     "data": {
      "image/png": "[encoded data removed]",
      "text/plain": [
       "<Figure size 432x288 with 1 Axes>"
      ]
     },
     "metadata": {
      "needs_background": "light"
     },
     "output_type": "display_data"
    }
   ],
   "source": [
    "plt.scatter(x=setosa['Sepal Width'], y=setosa['Petal Length'], color='b', marker = \"s\")\n",
    "plt.scatter(x=virginica['Sepal Width'], y=virginica['Petal Length'], color='r', marker = \"o\")\n",
    "plt.scatter(x=versicolor['Sepal Width'], y=versicolor['Petal Length'], color='#39FF14', marker = \"D\")\n",
    "plt.legend(['setosa', 'viginica', 'versicolor'])\n",
    "plt.title(\"Sepal Width vs Petal Length\")\n",
    "plt.xlabel('Sepal Width')\n",
    "plt.ylabel('Petal Length')"
   ]
  },
  {
   "cell_type": "markdown",
   "id": "12f90255",
   "metadata": {},
   "source": [
    "### Sepal Width with Petal Width"
   ]
  },
  {
   "cell_type": "code",
   "execution_count": 7,
   "id": "1f711531",
   "metadata": {},
   "outputs": [
    {
     "data": {
      "text/plain": [
       "Text(0, 0.5, 'Petal Width')"
      ]
     },
     "execution_count": 7,
     "metadata": {},
     "output_type": "execute_result"
    },
    {
     "data": {
      "image/png": "[encoded data removed]",
      "text/plain": [
       "<Figure size 432x288 with 1 Axes>"
      ]
     },
     "metadata": {
      "needs_background": "light"
     },
     "output_type": "display_data"
    }
   ],
   "source": [
    "plt.scatter(x=setosa['Sepal Width'], y=setosa['Petal Width'], color='b', marker = \"s\")\n",
    "plt.scatter(x=virginica['Sepal Width'], y=virginica['Petal Width'], color='r', marker = \"o\")\n",
    "plt.scatter(x=versicolor['Sepal Width'], y=versicolor['Petal Width'], color='#39FF14', marker = \"D\")\n",
    "plt.legend(['setosa', 'viginica', 'versicolor'])\n",
    "plt.title(\"Sepal Width vs Petal Width\")\n",
    "plt.xlabel('Sepal Width')\n",
    "plt.ylabel('Petal Width')"
   ]
  },
  {
   "cell_type": "markdown",
   "id": "582a4fd0",
   "metadata": {},
   "source": [
    "### Petal Length with Petal Width"
   ]
  },
  {
   "cell_type": "code",
   "execution_count": 8,
   "id": "08d49a89",
   "metadata": {},
   "outputs": [
    {
     "data": {
      "text/plain": [
       "Text(0, 0.5, 'Petal Width')"
      ]
     },
     "execution_count": 8,
     "metadata": {},
     "output_type": "execute_result"
    },
    {
     "data": {
      "image/png": "[encoded data removed]",
      "text/plain": [
       "<Figure size 432x288 with 1 Axes>"
      ]
     },
     "metadata": {
      "needs_background": "light"
     },
     "output_type": "display_data"
    }
   ],
   "source": [
    "plt.scatter(x=setosa['Petal Length'], y=setosa['Petal Width'], color='b', marker = \"s\")\n",
    "plt.scatter(x=virginica['Petal Length'], y=virginica['Petal Width'], color='r', marker = \"o\")\n",
    "plt.scatter(x=versicolor['Petal Length'], y=versicolor['Petal Width'], color='#39FF14', marker = \"D\")\n",
    "plt.legend(['setosa', 'viginica', 'versicolor'])\n",
    "plt.title(\"Petal length vs Petal Width\")\n",
    "plt.xlabel('Petal Length')\n",
    "plt.ylabel('Petal Width')"
   ]
  },
  {
   "cell_type": "markdown",
   "id": "a5f0c32f",
   "metadata": {},
   "source": [
    "### Find correlation coefficient for each pair of measurements when class is disregarded"
   ]
  },
  {
   "cell_type": "code",
   "execution_count": 9,
   "id": "c14deb05",
   "metadata": {},
   "outputs": [
    {
     "name": "stdout",
     "output_type": "stream",
     "text": [
      "Sepal Length with Sepal Width is:  -0.10936924995064935\n",
      "Sepal Length with Petal Length is:  0.8717541573048718\n",
      "Sepal Length with Petal Width is:  0.8179536333691633\n",
      "Sepal Width with Petal Length is:  -0.42051609640115495\n",
      "Sepal Width with Petal Width is:  -0.3565440896138055\n",
      "Petal Length with Petal Width is:  0.9627570970509667\n"
     ]
    }
   ],
   "source": [
    "slsw = stats.correlation(iris_data['Sepal Length'], iris_data['Sepal Width'])\n",
    "print(\"Sepal Length with Sepal Width is: \",slsw)\n",
    "slpl = stats.correlation(iris_data['Sepal Length'], iris_data['Petal Length'])\n",
    "print(\"Sepal Length with Petal Length is: \", slpl)\n",
    "slpw = stats.correlation(iris_data['Sepal Length'], iris_data['Petal Width'])\n",
    "print(\"Sepal Length with Petal Width is: \", slpw)\n",
    "swpl = stats.correlation(iris_data['Sepal Width'], iris_data['Petal Length'])\n",
    "print(\"Sepal Width with Petal Length is: \", swpl)\n",
    "swpw = stats.correlation(iris_data['Sepal Width'], iris_data['Petal Width'])\n",
    "print(\"Sepal Width with Petal Width is: \", swpw)\n",
    "plpw = stats.correlation(iris_data['Petal Length'], iris_data['Petal Width'])\n",
    "print(\"Petal Length with Petal Width is: \", plpw)"
   ]
  },
  {
   "cell_type": "markdown",
   "id": "a7cd6217",
   "metadata": {},
   "source": [
    "##  What is the correlation coefficient for each pair of measurements when taking into account only measurements within the same class"
   ]
  },
  {
   "cell_type": "code",
   "execution_count": 10,
   "id": "5c5597aa",
   "metadata": {},
   "outputs": [
    {
     "name": "stdout",
     "output_type": "stream",
     "text": [
      "Sepal Length with Sepal Width is:  -0.10936924995064935\n",
      "Setosa Sepal Length and Width correlation is:  0.7467803732639269\n",
      "Virginica Sepal Length and Width correlation is:  0.45722781639411275\n",
      "Versicolor Sepal Length and Width correlation is:  0.5259107172828243\n"
     ]
    }
   ],
   "source": [
    "setosa = iris_data[iris_data['Class'] == 'Iris-setosa'].reset_index()\n",
    "virginica = iris_data[iris_data['Class'] == 'Iris-virginica'].reset_index()\n",
    "versicolor = iris_data[iris_data['Class'] == 'Iris-versicolor'].reset_index()\n",
    "\n",
    "slsw = stats.correlation(iris_data['Sepal Length'], iris_data['Sepal Width'])\n",
    "print(\"Sepal Length with Sepal Width is: \",slsw)\n",
    "\n",
    "Setosa = stats.correlation(setosa['Sepal Length'], setosa['Sepal Width'])\n",
    "print(\"Setosa Sepal Length and Width correlation is: \", Setosa)\n",
    "\n",
    "Virginica = stats.correlation(virginica['Sepal Length'], virginica['Sepal Width'])\n",
    "print(\"Virginica Sepal Length and Width correlation is: \", Virginica)\n",
    "\n",
    "Versicolor = stats.correlation(versicolor['Sepal Length'], versicolor['Sepal Width'])\n",
    "print(\"Versicolor Sepal Length and Width correlation is: \", Versicolor)"
   ]
  },
  {
   "cell_type": "markdown",
   "id": "134cc996",
   "metadata": {},
   "source": [
    "## For each of the four numerical categories, compute the mean with a 95% confidence interval and show them in a bar chart.\n"
   ]
  },
  {
   "cell_type": "code",
   "execution_count": 11,
   "id": "c5aa5cae",
   "metadata": {},
   "outputs": [],
   "source": [
    "import random\n",
    "import math\n",
    "#Confidence interval with 95% defined as [xbar - 1.96 * SE, xbar + 1.96 * SE]\n",
    "#Find Std first\n",
    "def find_stddev(df, column_name, samples, trials):\n",
    "    std_dev_list = []\n",
    "    temp = []\n",
    "    for i in range(trials):\n",
    "        temp = [df[column_name].values[random.randint(0,len(df[column_name].values)-1)] for j in range(samples)]\n",
    "        std_dev_list.append(sum(temp) / len(temp))\n",
    "    \n",
    "    return np.std(std_dev_list) \n",
    "\n",
    "#substitutes df[column_name] for df[df[sub_class]] since its looking for specific class\n",
    "def generate_substd(df, column_name, samples, trials, sub_class, equalto):\n",
    "    std_dev_list = []\n",
    "    temp = []\n",
    "    for i in range(trials):\n",
    "        temp = [df[df[sub_class] == equalto][column_name].values[random.randint(0,len(df[df[sub_class] == equalto][column_name].values)-1)] for j in range(samples)]\n",
    "        std_dev_list.append(sum(temp) / len(temp))\n",
    "    \n",
    "    return np.std(std_dev_list)"
   ]
  },
  {
   "cell_type": "code",
   "execution_count": 12,
   "id": "16d7c418",
   "metadata": {},
   "outputs": [
    {
     "name": "stdout",
     "output_type": "stream",
     "text": [
      "95% Confidence interval of general Sepal length:  (5.82608984786355, 5.860576818803118)\n",
      "95% Confidence interval of general Sepal Width:  (3.043167219190328, 3.0648327808096725)\n",
      "95% Confidence interval of general Petal length:  (3.7086284543886188, 3.8087048789447135)\n",
      "95% Confidence interval of general Petal Width:  (1.1810295485376299, 1.2163037847957037)\n",
      "Means:  [5.843333333333334, 3.0540000000000003, 3.758666666666666, 1.1986666666666668]\n",
      "Interval distance:  [0.034486970939568096, 0.02166556161934441, 0.10007642455609478, 0.0352742362580738]\n"
     ]
    }
   ],
   "source": [
    "means = []\n",
    "ils = []\n",
    "# Sepal Length\n",
    "n = len(iris_data[['Sepal Length']].values) # Sample size\n",
    "sl_Xbar = iris_data[['Sepal Length']].values.mean()\n",
    "means.append(sl_Xbar)\n",
    "\n",
    "sl_stdev = find_stddev(iris_data, 'Sepal Length', 50, 50)\n",
    "c_interval = (sl_Xbar - (1.96 * sl_stdev / math.sqrt(n)), sl_Xbar + (1.96 * sl_stdev / math.sqrt(n)))\n",
    "ils = [c_interval[1] - c_interval[0]]\n",
    "print(\"95% Confidence interval of general Sepal length: \", c_interval)\n",
    "\n",
    "#Sepal Width\n",
    "n = len(iris_data[['Sepal Width']].values)\n",
    "sw_Xbar = iris_data[['Sepal Width']].values.mean()\n",
    "means.append(sw_Xbar)\n",
    "\n",
    "sw_stdev = find_stddev(iris_data,'Sepal Width', 50, 50)\n",
    "c_interval = (sw_Xbar - (1.96 * sw_stdev / math.sqrt(n)), sw_Xbar + (1.96 * sw_stdev / math.sqrt(n)))\n",
    "ils.append(c_interval[1] - c_interval[0])\n",
    "print(\"95% Confidence interval of general Sepal Width: \", c_interval)\n",
    "\n",
    "#Petal Length\n",
    "n = len(iris_data[['Petal Length']].values)\n",
    "pl_Xbar = iris_data[['Petal Length']].values.mean()\n",
    "means.append(pl_Xbar)\n",
    "\n",
    "pl_stdev = find_stddev(iris_data,'Petal Length', 50, 50)\n",
    "c_interval = (pl_Xbar - (1.96 * pl_stdev / math.sqrt(n)), pl_Xbar + (1.96 * pl_stdev / math.sqrt(n)))\n",
    "ils.append(c_interval[1] - c_interval[0])\n",
    "print(\"95% Confidence interval of general Petal length: \", c_interval)\n",
    "\n",
    "#Petal Width\n",
    "n = len(iris_data[['Petal Width']].values)\n",
    "pw_Xbar = iris_data[['Petal Width']].values.mean()\n",
    "means.append(pw_Xbar)\n",
    "\n",
    "pw_stdev = find_stddev(iris_data,'Petal Width', 50, 50)\n",
    "c_interval = (pw_Xbar - (1.96 * pw_stdev / math.sqrt(n)), pw_Xbar + (1.96 * pw_stdev / math.sqrt(n)))\n",
    "ils.append(c_interval[1] - c_interval[0])\n",
    "print(\"95% Confidence interval of general Petal Width: \", c_interval)\n",
    "\n",
    "print(\"Means: \", means)\n",
    "print(\"Interval distance: \", ils)"
   ]
  },
  {
   "cell_type": "code",
   "execution_count": 13,
   "id": "aa05ef49",
   "metadata": {},
   "outputs": [
    {
     "data": {
      "image/png": "[encoded data removed]",
      "text/plain": [
       "<Figure size 432x288 with 1 Axes>"
      ]
     },
     "metadata": {
      "needs_background": "light"
     },
     "output_type": "display_data"
    }
   ],
   "source": [
    "plt.bar(['Sepal Length', 'Sepal Width', 'Petal Length', 'Petal Width'], means, yerr=ils, capsize=10, width=0.5)\n",
    "plt.title('95% Confidence Intervals for Iris Data Attributes')\n",
    "plt.xlabel('Attributes')\n",
    "plt.ylabel('Mean')\n",
    "plt.show()"
   ]
  },
  {
   "cell_type": "markdown",
   "id": "4a991798",
   "metadata": {},
   "source": [
    "## Find mean with 95% confidence interval for all three individual classes:"
   ]
  },
  {
   "cell_type": "code",
   "execution_count": 14,
   "id": "d9efaf53",
   "metadata": {},
   "outputs": [
    {
     "name": "stdout",
     "output_type": "stream",
     "text": [
      "Sepal Length of Iris-setosa sample mean\n",
      "5.006\n",
      "Sepal Length of Iris-setosa sample standard deviation\n",
      "0.051935686724597536\n",
      "Confidence Interval for Sepal Length of Iris-setosa\n",
      "(4.991604162102731, 5.0203958378972695)\n",
      "Sepal Length of Iris-versicolor sample mean\n",
      "5.936\n",
      "Sepal Length of Iris-versicolor sample standard deviation\n",
      "0.06674075882763786\n",
      "Confidence Interval for Sepal Length of Iris-versicolor\n",
      "(5.917500405485765, 5.9544995945142345)\n",
      "Sepal Length of Iris-virginica sample mean\n",
      "6.587999999999998\n",
      "Sepal Length of Iris-virginica sample standard deviation\n",
      "0.0855335151985591\n",
      "Confidence Interval for Sepal Length of Iris-virginica\n",
      "(6.564291319182674, 6.611708680817323)\n",
      "Sepal Width of Iris-setosa sample mean\n",
      "3.418\n",
      "Sepal Width of Iris-setosa sample standard deviation\n",
      "0.055884006855470056\n",
      "Confidence Interval for Sepal Width of Iris-setosa\n",
      "(3.4025097435987077, 3.4334902564012926)\n",
      "Sepal Width of Iris-versicolor sample mean\n",
      "2.7700000000000005\n",
      "Sepal Width of Iris-versicolor sample standard deviation\n",
      "0.05061053908690033\n",
      "Confidence Interval for Sepal Width of Iris-versicolor\n",
      "(2.7559714742879615, 2.7840285257120394)\n",
      "Sepal Width of Iris-virginica sample mean\n",
      "2.974\n",
      "Sepal Width of Iris-virginica sample standard deviation\n",
      "0.04845231332626624\n",
      "Confidence Interval for Sepal Width of Iris-virginica\n",
      "(2.9605697039476664, 2.987430296052334)\n",
      "Petal Length of Iris-setosa sample mean\n",
      "1.464\n",
      "Petal Length of Iris-setosa sample standard deviation\n",
      "0.018472321637159374\n",
      "Confidence Interval for Petal Length of Iris-setosa\n",
      "(1.4588797336735935, 1.4691202663264065)\n",
      "Petal Length of Iris-versicolor sample mean\n",
      "4.26\n",
      "Petal Length of Iris-versicolor sample standard deviation\n",
      "0.05683973570976154\n",
      "Confidence Interval for Petal Length of Iris-versicolor\n",
      "(4.244244829076, 4.275755170924)\n",
      "Petal Length of Iris-virginica sample mean\n",
      "5.5520000000000005\n",
      "Petal Length of Iris-virginica sample standard deviation\n",
      "0.08047293540895172\n",
      "Confidence Interval for Petal Length of Iris-virginica\n",
      "(5.529694040334775, 5.574305959665226)\n",
      "Petal Width of Iris-setosa sample mean\n",
      "0.244\n",
      "Petal Width of Iris-setosa sample standard deviation\n",
      "0.016243152403397566\n",
      "Confidence Interval for Petal Width of Iris-setosa\n",
      "(0.2394976278607827, 0.24850237213921728)\n",
      "Petal Width of Iris-versicolor sample mean\n",
      "1.3259999999999998\n",
      "Petal Width of Iris-versicolor sample standard deviation\n",
      "0.027256477313760748\n",
      "Confidence Interval for Petal Width of Iris-versicolor\n",
      "(1.3184448899435914, 1.3335551100564083)\n",
      "Petal Width of Iris-virginica sample mean\n",
      "2.0260000000000002\n",
      "Petal Width of Iris-virginica sample standard deviation\n",
      "0.03888010059429136\n",
      "Confidence Interval for Petal Width of Iris-virginica\n",
      "(2.0152229859488924, 2.036777014051108)\n"
     ]
    }
   ],
   "source": [
    "setosa_means = []\n",
    "versicolor_means = []\n",
    "virginica_means = []\n",
    "setosa_il = []\n",
    "versicolor_il = []\n",
    "virginica_il = []\n",
    "# Sepal Length\n",
    "\n",
    "# Iris-setosa\n",
    "n = len(iris_data[iris_data['Class'] == 'Iris-setosa']['Sepal Length'].values) # Sample size\n",
    "sl_Xbar = iris_data[iris_data['Class'] == 'Iris-setosa']['Sepal Length'].values.mean()\n",
    "print('Sepal Length of Iris-setosa sample mean')\n",
    "print(sl_Xbar)\n",
    "sl_stddev = generate_substd(iris_data, 'Sepal Length', 50, 30, 'Class', 'Iris-setosa')\n",
    "print('Sepal Length of Iris-setosa sample standard deviation')\n",
    "print(sl_stddev)\n",
    "sl_cinterval = (sl_Xbar - (1.96*sl_stddev / math.sqrt(n)), sl_Xbar + (1.96*sl_stddev / math.sqrt(n)))\n",
    "print('Confidence Interval for Sepal Length of Iris-setosa')\n",
    "print(sl_cinterval)\n",
    "setosa_means.append(sl_Xbar)\n",
    "setosa_il.append(sl_cinterval[1] - sl_cinterval[0])\n",
    "\n",
    "#Iris-versicolor\n",
    "n = len(iris_data[iris_data['Class'] == 'Iris-versicolor']['Sepal Length'].values) # Sample size\n",
    "sl_Xbar = iris_data[iris_data['Class'] == 'Iris-versicolor']['Sepal Length'].values.mean()\n",
    "print('Sepal Length of Iris-versicolor sample mean')\n",
    "print(sl_Xbar)\n",
    "sl_stddev = generate_substd(iris_data, 'Sepal Length', 50, 30, 'Class', 'Iris-versicolor')\n",
    "print('Sepal Length of Iris-versicolor sample standard deviation')\n",
    "print(sl_stddev)\n",
    "sl_cinterval = (sl_Xbar - (1.96*sl_stddev / math.sqrt(n)), sl_Xbar + (1.96*sl_stddev / math.sqrt(n)))\n",
    "print('Confidence Interval for Sepal Length of Iris-versicolor')\n",
    "print(sl_cinterval)\n",
    "versicolor_means.append(sl_Xbar)\n",
    "versicolor_il.append(sl_cinterval[1] - sl_cinterval[0])\n",
    "\n",
    "#Iris-virginica\n",
    "n = len(iris_data[iris_data['Class'] == 'Iris-virginica']['Sepal Length'].values) # Sample size\n",
    "sl_Xbar = iris_data[iris_data['Class'] == 'Iris-virginica']['Sepal Length'].values.mean()\n",
    "print('Sepal Length of Iris-virginica sample mean')\n",
    "print(sl_Xbar)\n",
    "sl_stddev = generate_substd(iris_data, 'Sepal Length', 50, 30, 'Class', 'Iris-virginica')\n",
    "print('Sepal Length of Iris-virginica sample standard deviation')\n",
    "print(sl_stddev)\n",
    "sl_cinterval = (sl_Xbar - (1.96*sl_stddev / math.sqrt(n)), sl_Xbar + (1.96*sl_stddev / math.sqrt(n)))\n",
    "print('Confidence Interval for Sepal Length of Iris-virginica')\n",
    "print(sl_cinterval)\n",
    "virginica_means.append(sl_Xbar)\n",
    "virginica_il.append(sl_cinterval[1] - sl_cinterval[0])\n",
    "\n",
    "#Setosa Width\n",
    "\n",
    "# Iris-setosa\n",
    "n = len(iris_data[iris_data['Class'] == 'Iris-setosa']['Sepal Width'].values) # Sample size\n",
    "sl_Xbar = iris_data[iris_data['Class'] == 'Iris-setosa']['Sepal Width'].values.mean()\n",
    "print('Sepal Width of Iris-setosa sample mean')\n",
    "print(sl_Xbar)\n",
    "sl_stddev = generate_substd(iris_data, 'Sepal Width', 50, 30, 'Class', 'Iris-setosa')\n",
    "print('Sepal Width of Iris-setosa sample standard deviation')\n",
    "print(sl_stddev)\n",
    "sl_cinterval = (sl_Xbar - (1.96*sl_stddev / math.sqrt(n)), sl_Xbar + (1.96*sl_stddev / math.sqrt(n)))\n",
    "print('Confidence Interval for Sepal Width of Iris-setosa')\n",
    "print(sl_cinterval)\n",
    "setosa_means.append(sl_Xbar)\n",
    "setosa_il.append(sl_cinterval[1] - sl_cinterval[0])\n",
    "\n",
    "#Iris-versicolor\n",
    "n = len(iris_data[iris_data['Class'] == 'Iris-versicolor']['Sepal Width'].values) # Sample size\n",
    "sl_Xbar = iris_data[iris_data['Class'] == 'Iris-versicolor']['Sepal Width'].values.mean()\n",
    "print('Sepal Width of Iris-versicolor sample mean')\n",
    "print(sl_Xbar)\n",
    "sl_stddev = generate_substd(iris_data, 'Sepal Width', 50, 30, 'Class', 'Iris-versicolor')\n",
    "print('Sepal Width of Iris-versicolor sample standard deviation')\n",
    "print(sl_stddev)\n",
    "sl_cinterval = (sl_Xbar - (1.96*sl_stddev / math.sqrt(n)), sl_Xbar + (1.96*sl_stddev / math.sqrt(n)))\n",
    "print('Confidence Interval for Sepal Width of Iris-versicolor')\n",
    "print(sl_cinterval)\n",
    "versicolor_means.append(sl_Xbar)\n",
    "versicolor_il.append(sl_cinterval[1] - sl_cinterval[0])\n",
    "\n",
    "#Iris-virginica\n",
    "n = len(iris_data[iris_data['Class'] == 'Iris-virginica']['Sepal Width'].values) # Sample size\n",
    "sl_Xbar = iris_data[iris_data['Class'] == 'Iris-virginica']['Sepal Width'].values.mean()\n",
    "print('Sepal Width of Iris-virginica sample mean')\n",
    "print(sl_Xbar)\n",
    "sl_stddev = generate_substd(iris_data, 'Sepal Width', 50, 30, 'Class', 'Iris-virginica')\n",
    "print('Sepal Width of Iris-virginica sample standard deviation')\n",
    "print(sl_stddev)\n",
    "sl_cinterval = (sl_Xbar - (1.96*sl_stddev / math.sqrt(n)), sl_Xbar + (1.96*sl_stddev / math.sqrt(n)))\n",
    "print('Confidence Interval for Sepal Width of Iris-virginica')\n",
    "print(sl_cinterval)\n",
    "virginica_means.append(sl_Xbar)\n",
    "virginica_il.append(sl_cinterval[1] - sl_cinterval[0])\n",
    "\n",
    "#Petal Length\n",
    "\n",
    "# Iris-setosa\n",
    "n = len(iris_data[iris_data['Class'] == 'Iris-setosa']['Petal Length'].values) # Sample size\n",
    "sl_Xbar = iris_data[iris_data['Class'] == 'Iris-setosa']['Petal Length'].values.mean()\n",
    "print('Petal Length of Iris-setosa sample mean')\n",
    "print(sl_Xbar)\n",
    "sl_stddev = generate_substd(iris_data, 'Petal Length', 50, 30, 'Class', 'Iris-setosa')\n",
    "print('Petal Length of Iris-setosa sample standard deviation')\n",
    "print(sl_stddev)\n",
    "sl_cinterval = (sl_Xbar - (1.96*sl_stddev / math.sqrt(n)), sl_Xbar + (1.96*sl_stddev / math.sqrt(n)))\n",
    "print('Confidence Interval for Petal Length of Iris-setosa')\n",
    "print(sl_cinterval)\n",
    "setosa_means.append(sl_Xbar)\n",
    "setosa_il.append(sl_cinterval[1] - sl_cinterval[0])\n",
    "\n",
    "#Iris-versicolor\n",
    "n = len(iris_data[iris_data['Class'] == 'Iris-versicolor']['Petal Length'].values) # Sample size\n",
    "sl_Xbar = iris_data[iris_data['Class'] == 'Iris-versicolor']['Petal Length'].values.mean()\n",
    "print('Petal Length of Iris-versicolor sample mean')\n",
    "print(sl_Xbar)\n",
    "sl_stddev = generate_substd(iris_data, 'Petal Length', 50, 30, 'Class', 'Iris-versicolor')\n",
    "print('Petal Length of Iris-versicolor sample standard deviation')\n",
    "print(sl_stddev)\n",
    "sl_cinterval = (sl_Xbar - (1.96*sl_stddev / math.sqrt(n)), sl_Xbar + (1.96*sl_stddev / math.sqrt(n)))\n",
    "print('Confidence Interval for Petal Length of Iris-versicolor')\n",
    "print(sl_cinterval)\n",
    "versicolor_means.append(sl_Xbar)\n",
    "versicolor_il.append(sl_cinterval[1] - sl_cinterval[0])\n",
    "\n",
    "#Iris-virginica\n",
    "n = len(iris_data[iris_data['Class'] == 'Iris-virginica']['Petal Length'].values) # Sample size\n",
    "sl_Xbar = iris_data[iris_data['Class'] == 'Iris-virginica']['Petal Length'].values.mean()\n",
    "print('Petal Length of Iris-virginica sample mean')\n",
    "print(sl_Xbar)\n",
    "sl_stddev = generate_substd(iris_data, 'Petal Length', 50, 30, 'Class', 'Iris-virginica')\n",
    "print('Petal Length of Iris-virginica sample standard deviation')\n",
    "print(sl_stddev)\n",
    "sl_cinterval = (sl_Xbar - (1.96*sl_stddev / math.sqrt(n)), sl_Xbar + (1.96*sl_stddev / math.sqrt(n)))\n",
    "print('Confidence Interval for Petal Length of Iris-virginica')\n",
    "print(sl_cinterval)\n",
    "virginica_means.append(sl_Xbar)\n",
    "virginica_il.append(sl_cinterval[1] - sl_cinterval[0])\n",
    "\n",
    "#Petal Width\n",
    "\n",
    "# Iris-setosa\n",
    "n = len(iris_data[iris_data['Class'] == 'Iris-setosa']['Petal Width'].values) # Sample size\n",
    "sl_Xbar = iris_data[iris_data['Class'] == 'Iris-setosa']['Petal Width'].values.mean()\n",
    "print('Petal Width of Iris-setosa sample mean')\n",
    "print(sl_Xbar)\n",
    "sl_stddev = generate_substd(iris_data, 'Petal Width', 50, 30, 'Class', 'Iris-setosa')\n",
    "print('Petal Width of Iris-setosa sample standard deviation')\n",
    "print(sl_stddev)\n",
    "sl_cinterval = (sl_Xbar - (1.96*sl_stddev / math.sqrt(n)), sl_Xbar + (1.96*sl_stddev / math.sqrt(n)))\n",
    "print('Confidence Interval for Petal Width of Iris-setosa')\n",
    "print(sl_cinterval)\n",
    "setosa_means.append(sl_Xbar)\n",
    "setosa_il.append(sl_cinterval[1] - sl_cinterval[0])\n",
    "\n",
    "#Iris-versicolor\n",
    "n = len(iris_data[iris_data['Class'] == 'Iris-versicolor']['Petal Width'].values) # Sample size\n",
    "sl_Xbar = iris_data[iris_data['Class'] == 'Iris-versicolor']['Petal Width'].values.mean()\n",
    "print('Petal Width of Iris-versicolor sample mean')\n",
    "print(sl_Xbar)\n",
    "sl_stddev = generate_substd(iris_data, 'Petal Width', 50, 30, 'Class', 'Iris-versicolor')\n",
    "print('Petal Width of Iris-versicolor sample standard deviation')\n",
    "print(sl_stddev)\n",
    "sl_cinterval = (sl_Xbar - (1.96*sl_stddev / math.sqrt(n)), sl_Xbar + (1.96*sl_stddev / math.sqrt(n)))\n",
    "print('Confidence Interval for Petal Width of Iris-versicolor')\n",
    "print(sl_cinterval)\n",
    "versicolor_means.append(sl_Xbar)\n",
    "versicolor_il.append(sl_cinterval[1] - sl_cinterval[0])\n",
    "\n",
    "#Iris-virginica\n",
    "n = len(iris_data[iris_data['Class'] == 'Iris-virginica']['Petal Width'].values) # Sample size\n",
    "sl_Xbar = iris_data[iris_data['Class'] == 'Iris-virginica']['Petal Width'].values.mean()\n",
    "print('Petal Width of Iris-virginica sample mean')\n",
    "print(sl_Xbar)\n",
    "sl_stddev = generate_substd(iris_data, 'Petal Width', 50, 30, 'Class', 'Iris-virginica')\n",
    "print('Petal Width of Iris-virginica sample standard deviation')\n",
    "print(sl_stddev)\n",
    "sl_cinterval = (sl_Xbar - (1.96*sl_stddev / math.sqrt(n)), sl_Xbar + (1.96*sl_stddev / math.sqrt(n)))\n",
    "print('Confidence Interval for Petal Width of Iris-virginica')\n",
    "print(sl_cinterval)\n",
    "virginica_means.append(sl_Xbar)\n",
    "virginica_il.append(sl_cinterval[1] - sl_cinterval[0])\n"
   ]
  },
  {
   "cell_type": "code",
   "execution_count": 15,
   "id": "ff6f2443",
   "metadata": {},
   "outputs": [
    {
     "data": {
      "image/png": "[encoded data removed]",
      "text/plain": [
       "<Figure size 1080x720 with 1 Axes>"
      ]
     },
     "metadata": {
      "needs_background": "light"
     },
     "output_type": "display_data"
    }
   ],
   "source": [
    "plt.figure(figsize=(15,10))\n",
    "plt.bar(['Sepal Length', 'Sepal Width', 'Petal Length', 'Petal Width'], setosa_means, yerr=setosa_il, capsize=10, width=0.6)\n",
    "plt.bar(['Sepal Length1', 'Sepal Width1', 'Petal Length1', 'Petal Width1'], versicolor_means, yerr=versicolor_il, capsize=10, width=0.6)\n",
    "plt.bar(['Sepal Length2', 'Sepal Width2', 'Petal Length2', 'Petal Width2'], virginica_means, yerr=virginica_il, capsize=10, width=0.6)\n",
    "plt.title('95% Confidence Interval for Iris Data Attributes Split by Class')\n",
    "plt.xlabel('Attribute')\n",
    "plt.ylabel('Mean')\n",
    "plt.legend(['Iris-Setosa', 'Iris-Versicolor', 'Iris-Virginica'])\n",
    "plt.show()"
   ]
  },
  {
   "cell_type": "code",
   "execution_count": 16,
   "id": "b630f882",
   "metadata": {},
   "outputs": [],
   "source": [
    "def normal_pdf(x, mu, sigma):\n",
    "    return (1/(sigma*np.sqrt(2 * np.pi))) * np.exp(-1*(x - mu)**2 / (2 * sigma**2))\n",
    "\n",
    "def normal_cdf(x, mu, sigma):\n",
    "    return (1 + math.erf((x-mu)/(sigma*np.sqrt(2))))/2\n",
    "\n",
    "def inverse_normal_cdf(p, mu, sigma):\n",
    "    low = -1\n",
    "    while( normal_cdf(low, mu, sigma) > 1e-10 ):\n",
    "        low *= 2\n",
    "    high = 1\n",
    "    while( normal_cdf(high, mu, sigma) < 1-1e-10 ):\n",
    "        high *= 2\n",
    "    \n",
    "    # Structure of binary search: \n",
    "    #  - check middle: (high+low)/2\n",
    "    #  - if cdf(middle) < p, low = middle\n",
    "    #    else high = middle\n",
    "    #  - stop when |high-low| < tolerance\n",
    "    \n",
    "    tol = 1e-5\n",
    "\n",
    "    # as a backup to avoid weirdness when convergence takes too long,\n",
    "    # could build in a max iteration count too...\n",
    "    \n",
    "    while abs(high-low) > tol:\n",
    "        mid_x = (low+high)/2\n",
    "        mid_p = normal_cdf(mid_x, mu, sigma)\n",
    "        \n",
    "        if mid_p < p:\n",
    "            low = mid_x\n",
    "        else:\n",
    "            high = mid_x\n",
    "            \n",
    "    return mid_x\n",
    "\n",
    "def normal_center_probability(t, mu, sigma):\n",
    "    # return the difference of two integrals\n",
    "    return normal_cdf(mu + t, mu, sigma) - normal_cdf(mu - t, mu, sigma)\n",
    "\n",
    "def normal_tail_probability(t, mu, sigma):\n",
    "    # use the law of total probability, full integral must be 1\n",
    "    return 1 - normal_center_probability(t, mu, sigma)\n",
    "\n",
    "\n",
    "def normal_two_sided_limits(p, mu, sigma):\n",
    "    # calculate the bounds around the mean\n",
    "    # that have probability p\n",
    "    tail_p = (1 - p)/2\n",
    "    \n",
    "    # how far to the right do we get probability tail_p\n",
    "    high = inverse_normal_cdf(1 - tail_p, mu, sigma)\n",
    "    \n",
    "    # how far to the left\n",
    "    low = inverse_normal_cdf(tail_p, mu, sigma)\n",
    "    \n",
    "    return low, high\n",
    "\n",
    "def two_sided_p_value(x, mu, sigma):\n",
    "    \"\"\"\n",
    "    Calculates that, assuming X comes from N(mu, sigma),\n",
    "    what is the probability that we observe something as\n",
    "    extreme as x. I.e. what is the probabily in the tails\n",
    "    that are |mu-x| apart.\n",
    "    \"\"\"\n",
    "    return normal_tail_probability(abs(mu-x), mu, sigma)"
   ]
  },
  {
   "cell_type": "code",
   "execution_count": 24,
   "id": "67146d0f",
   "metadata": {},
   "outputs": [
    {
     "name": "stdout",
     "output_type": "stream",
     "text": [
      "Hypothesis: The mean Sepal Width of Iris-versicolor is greater than the mean Sepal Length of Iris-versicolor\n",
      "Error bounds = .05\n",
      "Mean of Iris-versicolor Sepal Width:\n",
      "2.7700000000000005\n",
      "Mean of Iris-versicolor Sepal Length:\n",
      "5.936\n",
      "p-value =  2.897710960070299e-10\n"
     ]
    }
   ],
   "source": [
    "print('Hypothesis: The mean Sepal Width of Iris-versicolor is greater than the mean Sepal Length of Iris-versicolor')\n",
    "print('Error bounds = .05')\n",
    "print('Mean of Iris-versicolor Sepal Width:')\n",
    "sw_Xbar = iris_data[iris_data['Class'] == 'Iris-versicolor']['Sepal Width'].values.mean()\n",
    "print(sw_Xbar)\n",
    "print('Mean of Iris-versicolor Sepal Length:')\n",
    "sl_Xbar = iris_data[iris_data['Class'] == 'Iris-versicolor']['Sepal Length'].values.mean()\n",
    "print(sl_Xbar)\n",
    "sigma = np.std(iris_data[iris_data['Class'] == 'Iris-versicolor']['Sepal Length'].values)\n",
    "print(\"p-value = \", two_sided_p_value(sw_Xbar, sl_Xbar, sigma) / 2)"
   ]
  },
  {
   "cell_type": "markdown",
   "id": "11909055",
   "metadata": {},
   "source": [
    "This hypothesis does not hold true. Given the p-value being less than 0.05 (which is the maximum error allowed), the p-value shows there is not a reliable value in this data that would suggest the mean Versicolor Sepal Width is larger than the mean Sepal Length. Using the two means of the versicolor, we can see this conclusion proves true with the Sepal Length being more than twice as large on average. Therefore because the chances of the Sepal Width being greater than the Sepal Length are so low, we can be confident in our conclusion."
   ]
  },
  {
   "cell_type": "markdown",
   "id": "f1430cc8",
   "metadata": {},
   "source": [
    "## Looking at the data (in the form of a histogram), how close is it to a Normal distribution?"
   ]
  },
  {
   "cell_type": "code",
   "execution_count": 31,
   "id": "8680102f",
   "metadata": {},
   "outputs": [
    {
     "data": {
      "text/plain": [
       "Text(0.5, 1.0, 'Comparing Width Frequency to Normal Distribution')"
      ]
     },
     "execution_count": 31,
     "metadata": {},
     "output_type": "execute_result"
    },
    {
     "data": {
      "image/png": "[encoded data removed]",
      "text/plain": [
       "<Figure size 432x288 with 1 Axes>"
      ]
     },
     "metadata": {
      "needs_background": "light"
     },
     "output_type": "display_data"
    }
   ],
   "source": [
    "iris_data[iris_data['Class'] == 'Iris-versicolor']['Sepal Width'].plot.hist(color = '#39FF14', edgecolor = 'black')\n",
    "plt.xlabel('Sepal Width')\n",
    "plt.title(\"Comparing Width Frequency to Normal Distribution\")"
   ]
  },
  {
   "cell_type": "code",
   "execution_count": 32,
   "id": "18b0fa63",
   "metadata": {},
   "outputs": [
    {
     "data": {
      "text/plain": [
       "Text(0.5, 1.0, 'Comparing Length Frequency to Normal Distribution')"
      ]
     },
     "execution_count": 32,
     "metadata": {},
     "output_type": "execute_result"
    },
    {
     "data": {
      "image/png": "[encoded data removed]",
      "text/plain": [
       "<Figure size 432x288 with 1 Axes>"
      ]
     },
     "metadata": {
      "needs_background": "light"
     },
     "output_type": "display_data"
    }
   ],
   "source": [
    "iris_data[iris_data['Class'] == 'Iris-versicolor']['Sepal Length'].plot.hist(color = '#39FF14', edgecolor = 'black')\n",
    "plt.xlabel('Sepal Length')\n",
    "plt.title(\"Comparing Length Frequency to Normal Distribution\")"
   ]
  },
  {
   "cell_type": "markdown",
   "id": "432dd0c8",
   "metadata": {},
   "source": [
    "The distribution for both the Sepal Length and Sepal Width appear inconsistent to a Normal Distribution. Since are some outliers on either side for both datasets, this could mean the p-value is inaccurate. For example, Sepal Length histogram has several 5 unit values when it should be lower than the middle values. If the p-value states the odds of a certain value being within it's range in this example, but the same value has many duplicates, the p-value becomes less accurate. This could likely be due to the number of samples available in the data. With more flowers to look at, we could analyze this p-value with 500 or 1000 samples to have a more accurate observation."
   ]
  },
  {
   "cell_type": "code",
   "execution_count": null,
   "id": "d833b639",
   "metadata": {},
   "outputs": [],
   "source": []
  }
 ],
 "metadata": {
  "kernelspec": {
   "display_name": "Python 3",
   "language": "python",
   "name": "python3"
  },
  "language_info": {
   "codemirror_mode": {
    "name": "ipython",
    "version": 3
   },
   "file_extension": ".py",
   "mimetype": "text/x-python",
   "name": "python",
   "nbconvert_exporter": "python",
   "pygments_lexer": "ipython3",
   "version": "3.8.8"
  }
 },
 "nbformat": 4,
 "nbformat_minor": 5
}
