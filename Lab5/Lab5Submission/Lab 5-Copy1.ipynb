{
 "cells": [
  {
   "cell_type": "markdown",
   "id": "667dcbda",
   "metadata": {},
   "source": [
    "class blah:\n",
    "    def train(self):\n",
    "    def predict(self):"
   ]
  },
  {
   "cell_type": "markdown",
   "id": "01793f28",
   "metadata": {},
   "source": [
    "\n",
    "# Import necessary modules\n",
    "from sklearn.neighbors import KNeighborsClassifier\n",
    "from sklearn.model_selection import train_test_split\n",
    "from sklearn.datasets import load_iris\n",
    " \n",
    "# Loading data\n",
    "irisData = load_iris()\n",
    " \n",
    "# Create feature and target arrays\n",
    "X = irisData.data\n",
    "y = irisData.target\n",
    " \n",
    "# Split into training and test set\n",
    "X_train, X_test, y_train, y_test = train_test_split(\n",
    "             X, y, test_size = 0.2, random_state=42)\n",
    " \n",
    "knn = KNeighborsClassifier(n_neighbors=7)\n",
    " \n",
    "knn.fit(X_train, y_train)\n",
    " \n",
    "# Predict on dataset which model has not seen before\n",
    "print(knn.predict(X_test))"
   ]
  },
  {
   "cell_type": "markdown",
   "id": "c72add5d",
   "metadata": {},
   "source": [
    "# Import necessary modules\n",
    "#from sklearn.neighbors import KNeighborsClassifier\n",
    "#from sklearn.model_selection import train_test_split\n",
    "#from sklearn.datasets import load_iris\n",
    "import numpy as np\n",
    "import matplotlib.pyplot as plt\n",
    " \n",
    "irisData = load_iris()\n",
    " \n",
    "# Create feature and target arrays\n",
    "X = irisData.data\n",
    "y = irisData.target\n",
    " \n",
    "# Split into training and test set\n",
    "X_train, X_test, y_train, y_test = train_test_split(\n",
    "             X, y, test_size = 0.2, random_state=42)\n",
    " \n",
    "neighbors = np.arange(1, 9)\n",
    "train_accuracy = np.empty(len(neighbors))\n",
    "test_accuracy = np.empty(len(neighbors))\n",
    " \n",
    "# Loop over K values\n",
    "for i, k in enumerate(neighbors):\n",
    "    knn = KNeighborsClassifier(n_neighbors=k)\n",
    "    knn.fit(X_train, y_train)\n",
    "     \n",
    "    # Compute training and test data accuracy\n",
    "    train_accuracy[i] = knn.score(X_train, y_train)\n",
    "    test_accuracy[i] = knn.score(X_test, y_test)\n",
    " \n",
    "# Generate plot\n",
    "plt.plot(neighbors, test_accuracy, label = 'Testing dataset Accuracy')\n",
    "plt.plot(neighbors, train_accuracy, label = 'Training dataset Accuracy')\n",
    " \n",
    "plt.legend()\n",
    "plt.xlabel('n_neighbors')\n",
    "plt.ylabel('Accuracy')\n",
    "plt.show()"
   ]
  },
  {
   "cell_type": "markdown",
   "id": "7b23a389",
   "metadata": {},
   "source": [
    "# COSC 311 - Lab 6\n",
    "\n",
    "Due: 23 November"
   ]
  },
  {
   "cell_type": "markdown",
   "id": "87c85dec",
   "metadata": {},
   "source": [
    "## Begin by implementing the k-Nearest Neighbors (kNN) classification algorithm\n",
    "\n",
    "### Use a Python class with internal parameter k and methods train and predict.\n",
    "    i. The train method should take in an array of pre-labeled data and store them to be used in the kNN calculation later.\n",
    "    ii. The predict method should take in a single data point (of the same dimension as those used in training) and return the label of the kNN decision. Keep in mind that, in general, you may have to choose between multiple labels. In this case, ties are possible, but you can just decide to break them randomly or increase k to get more votes."
   ]
  },
  {
   "cell_type": "code",
   "execution_count": 1,
   "id": "6a2d321b",
   "metadata": {},
   "outputs": [],
   "source": [
    "import numpy as np\n",
    "import pandas as pd\n",
    "from matplotlib import pyplot as plt\n",
    "import seaborn as sb\n",
    "import numpy.linalg as la # Linear algebra library\n",
    "import math # Math library\n",
    "import random # Random library\n",
    "from tqdm import tqdm # For timing of certain functions\n",
    "import time # Time macro\n",
    "\n",
    "# KNN Class\n",
    "class KNN:\n",
    "    def __init__(self, k):\n",
    "        self.k = k\n",
    "        self.trainarr = []\n",
    "        self.classifier_list = []\n",
    "        self.predicted_points = []\n",
    "        \n",
    "    def distance(self, point):\n",
    "        \"\"\"\n",
    "        Finds the distance of every training set value from point, and then returns the as list of tuples sorted in ascending order \n",
    "        by distance values paired with the corresponding \"classifier\"\n",
    "        \"\"\"\n",
    "        distance_pairs_list = [(0,0) for _ in range(len(self.trainarr))]\n",
    "        for ind,i in enumerate(self.trainarr):\n",
    "            #distance_pairs_list.append((la.norm(np.array(point) - np.array(i[0])), i[1]))\n",
    "            distance_pairs_list[ind] = (la.norm(np.array(point) - np.array(i[0])), i[1])\n",
    "        distance_pairs_list.sort(key= lambda x: x[0])\n",
    "        return distance_pairs_list\n",
    "    \n",
    "    def train(self, tlist):\n",
    "        \"\"\"\n",
    "        Takes a list of training data => tuple containing a samples X ndims list and it's associated classifier \n",
    "        that will be stored for later\n",
    "        \"\"\"\n",
    "        self.trainarr = tlist[:]\n",
    "        self.classifier_list = list(set([i[1] for i in self.trainarr]))\n",
    "        \n",
    "    def predict(self, point, graphing=False):\n",
    "        \"\"\" \n",
    "        Point must be a list, same dimension as the training set\n",
    "        graphing is default False (for efficiency), otherwise True adds point to list for graphing later\n",
    "        \"\"\"\n",
    "        classifier_counts = {i[1]: 0 for i in self.trainarr}\n",
    "        distance_list = self.distance(point)\n",
    "        key_select = ''\n",
    "        for index,item in enumerate(distance_list):\n",
    "            if index < self.k:\n",
    "                classifier_counts[item[1]] += 1\n",
    "            else:\n",
    "                max_dict_val = max(classifier_counts.values())\n",
    "                if list(classifier_counts.values()).count(max_dict_val) > 1:\n",
    "                    classifier_counts[item[1]] += 1\n",
    "                else:\n",
    "                    for key, value in classifier_counts.items():\n",
    "                        if value == max_dict_val:\n",
    "                            key_select = key\n",
    "                            break\n",
    "                    break\n",
    "        #print(f'I am predicting that the classifier for point {point} is... {key_select}!')\n",
    "        if graphing:\n",
    "            self.predicted_points.append((point, key_select))\n",
    "        return key_select\n",
    "        \n",
    "    def plot_train(self):\n",
    "        \"\"\"\n",
    "        Can only plot for 2d data\n",
    "        \"\"\"\n",
    "        colors = ['Green', 'Red', 'Blue', 'Black', 'Yellow', 'Pink', 'Brown', 'Purple']\n",
    "        for ind, item in enumerate(self.classifier_list):\n",
    "            plotx = [j[0][0] for j in self.trainarr if j[1] == item]\n",
    "            ploty = [j[0][1] for j in self.trainarr if j[1] == item]\n",
    "            plt.scatter(x=plotx, y=ploty, c=colors[ind], label=item)\n",
    "        plt.title('Plot of sample training data')\n",
    "        plt.legend()\n",
    "        plt.xlabel('X axis')\n",
    "        plt.ylabel('Y axis')\n",
    "        plt.show()\n",
    "        \n",
    "    def plot_train_and_predictions(self):\n",
    "        \"\"\"\n",
    "        Can only plot for 2d data, plots the point that was predicted\n",
    "        \"\"\"\n",
    "        colors = ['Green', 'Red', 'Blue', 'Black', 'Yellow', 'Pink', 'Brown', 'Purple']\n",
    "        for ind, item in enumerate(self.classifier_list):\n",
    "            plotxtrain = [j[0][0] for j in self.trainarr if j[1] == item]\n",
    "            plotytrain = [j[0][1] for j in self.trainarr if j[1] == item]\n",
    "            plotxpredict = [j[0][0] for j in self.predicted_points if j[1] == item]\n",
    "            plotypredict = [j[0][1] for j in self.predicted_points if j[1] == item]\n",
    "            plt.scatter(x=plotxtrain, y=plotytrain, c=colors[ind], label=f'Trained: {item}')\n",
    "            plt.scatter(x=plotxpredict, y=plotypredict, c=colors[ind], label=f'Predicted: {item}', marker='^')\n",
    "        plt.title(f'Plot of sample training data and predicted points (k = {self.k})')\n",
    "        plt.legend()\n",
    "        plt.xlabel('X axis')\n",
    "        plt.ylabel('Y axis')\n",
    "        plt.show()"
   ]
  },
  {
   "cell_type": "markdown",
   "id": "e3612621",
   "metadata": {},
   "source": [
    "### Test the algorithm on some simple hand-made data that you can easily visualize or inspect to check for correct behavior."
   ]
  },
  {
   "cell_type": "code",
   "execution_count": 2,
   "id": "2d177dcb",
   "metadata": {},
   "outputs": [
    {
     "data": {
      "image/png": "[encoded data removed]",
      "text/plain": [
       "<Figure size 432x288 with 1 Axes>"
      ]
     },
     "metadata": {
      "needs_background": "light"
     },
     "output_type": "display_data"
    },
    {
     "data": {
      "image/png": "[encoded data removed]",
      "text/plain": [
       "<Figure size 432x288 with 1 Axes>"
      ]
     },
     "metadata": {
      "needs_background": "light"
     },
     "output_type": "display_data"
    }
   ],
   "source": [
    "knn1 = KNN(3)\n",
    "train1 = [([23, 4], 'red'), ([5, -1], 'green'), ([-2, -4], 'blue'), ([2, 5], 'red'), ([25, 30], 'red'), \n",
    "          ([2, -12], 'green'), ([-10, -10], 'blue')]\n",
    "knn1.train(train1)\n",
    "knn1.plot_train()\n",
    "knn1.predict([10, 10], True)\n",
    "knn1.predict([2,0], True)\n",
    "knn1.predict([15,20], True)\n",
    "knn1.predict([0,-5], True)\n",
    "knn1.predict([-5, -10], True)\n",
    "knn1.predict([15, -10], True)\n",
    "knn1.plot_train_and_predictions()"
   ]
  },
  {
   "cell_type": "markdown",
   "id": "5573fb66",
   "metadata": {},
   "source": [
    "## Write a python routines to split a given data set (randomly) into testing and training subsets. It’s a good idea to parameterize this process with a percentage p so the data is split into sets of size np and n(1 − p); then you can “tune” p later for your specific training/testing procedure."
   ]
  },
  {
   "cell_type": "code",
   "execution_count": 3,
   "id": "2fafcfaf",
   "metadata": {},
   "outputs": [],
   "source": [
    "# split_sets Function\n",
    "def split_sets_iris(dataframe, train_p):\n",
    "    \"\"\"\n",
    "    Returns 2 lists of the form needed to use the KNN class using the iris data set\n",
    "    \"\"\"\n",
    "    assert(train_p < 1) # Make sure that p is a percentage\n",
    "    \n",
    "    # Split dataframe into training and test/prediction sets\n",
    "    train_count = int(dataframe.shape[0] * train_p)\n",
    "    predict_count = int(dataframe.shape[0] * (1 - train_p))\n",
    "    \n",
    "    tmp_list = dataframe.values\n",
    "    train_list = [(0,0) for _ in range(train_count)]\n",
    "    for i in range(0, train_count):\n",
    "        rand_row = tmp_list[random.randint(0, len(tmp_list) - 1)]\n",
    "        #train_list.append(([rand_row[0], rand_row[1], rand_row[2], rand_row[3]], rand_row[4]))\n",
    "        train_list[i] = ([rand_row[0], rand_row[1], rand_row[2], rand_row[3]], rand_row[4])\n",
    "\n",
    "    \n",
    "    predict_list = [(0,0) for _ in range(predict_count)]\n",
    "    for i in range(0, predict_count):\n",
    "        rand_row = tmp_list[random.randint(0, len(tmp_list) - 1)]\n",
    "        #predict_list.append(([rand_row[0], rand_row[1], rand_row[2], rand_row[3]], rand_row[4]))\n",
    "        predict_list[i] = ([rand_row[0], rand_row[1], rand_row[2], rand_row[3]], rand_row[4])\n",
    "    '''\n",
    "    print(train_list)\n",
    "    print(predict_list)\n",
    "    print(len(train_list), len(predict_list))\n",
    "    '''\n",
    "    \n",
    "    return train_list, predict_list"
   ]
  },
  {
   "cell_type": "markdown",
   "id": "dbcf27ba",
   "metadata": {},
   "source": [
    "## 4. Using Python, implement the k-means algorithm and test this on the Iris dataset. Try using all of the columns versus only a subset. What works the best? How well does the algorithm do when setting k = 3, the true number of classes? Show the results visually (using only 2-d scatter plots) – be sure to indicate visually both the predicted cluster result and the true iris class."
   ]
  },
  {
   "cell_type": "code",
   "execution_count": 4,
   "id": "68b1a82f",
   "metadata": {},
   "outputs": [
    {
     "data": {
      "text/html": [
       "<div>\n",
       "<style scoped>\n",
       "    .dataframe tbody tr th:only-of-type {\n",
       "        vertical-align: middle;\n",
       "    }\n",
       "\n",
       "    .dataframe tbody tr th {\n",
       "        vertical-align: top;\n",
       "    }\n",
       "\n",
       "    .dataframe thead th {\n",
       "        text-align: right;\n",
       "    }\n",
       "</style>\n",
       "<table border=\"1\" class=\"dataframe\">\n",
       "  <thead>\n",
       "    <tr style=\"text-align: right;\">\n",
       "      <th></th>\n",
       "      <th>sepal_length</th>\n",
       "      <th>sepal_width</th>\n",
       "      <th>petal_length</th>\n",
       "      <th>petal_width</th>\n",
       "      <th>class</th>\n",
       "    </tr>\n",
       "  </thead>\n",
       "  <tbody>\n",
       "    <tr>\n",
       "      <th>0</th>\n",
       "      <td>5.1</td>\n",
       "      <td>3.5</td>\n",
       "      <td>1.4</td>\n",
       "      <td>0.2</td>\n",
       "      <td>Iris-setosa</td>\n",
       "    </tr>\n",
       "    <tr>\n",
       "      <th>1</th>\n",
       "      <td>4.9</td>\n",
       "      <td>3.0</td>\n",
       "      <td>1.4</td>\n",
       "      <td>0.2</td>\n",
       "      <td>Iris-setosa</td>\n",
       "    </tr>\n",
       "    <tr>\n",
       "      <th>2</th>\n",
       "      <td>4.7</td>\n",
       "      <td>3.2</td>\n",
       "      <td>1.3</td>\n",
       "      <td>0.2</td>\n",
       "      <td>Iris-setosa</td>\n",
       "    </tr>\n",
       "    <tr>\n",
       "      <th>3</th>\n",
       "      <td>4.6</td>\n",
       "      <td>3.1</td>\n",
       "      <td>1.5</td>\n",
       "      <td>0.2</td>\n",
       "      <td>Iris-setosa</td>\n",
       "    </tr>\n",
       "    <tr>\n",
       "      <th>4</th>\n",
       "      <td>5.0</td>\n",
       "      <td>3.6</td>\n",
       "      <td>1.4</td>\n",
       "      <td>0.2</td>\n",
       "      <td>Iris-setosa</td>\n",
       "    </tr>\n",
       "    <tr>\n",
       "      <th>...</th>\n",
       "      <td>...</td>\n",
       "      <td>...</td>\n",
       "      <td>...</td>\n",
       "      <td>...</td>\n",
       "      <td>...</td>\n",
       "    </tr>\n",
       "    <tr>\n",
       "      <th>145</th>\n",
       "      <td>6.7</td>\n",
       "      <td>3.0</td>\n",
       "      <td>5.2</td>\n",
       "      <td>2.3</td>\n",
       "      <td>Iris-virginica</td>\n",
       "    </tr>\n",
       "    <tr>\n",
       "      <th>146</th>\n",
       "      <td>6.3</td>\n",
       "      <td>2.5</td>\n",
       "      <td>5.0</td>\n",
       "      <td>1.9</td>\n",
       "      <td>Iris-virginica</td>\n",
       "    </tr>\n",
       "    <tr>\n",
       "      <th>147</th>\n",
       "      <td>6.5</td>\n",
       "      <td>3.0</td>\n",
       "      <td>5.2</td>\n",
       "      <td>2.0</td>\n",
       "      <td>Iris-virginica</td>\n",
       "    </tr>\n",
       "    <tr>\n",
       "      <th>148</th>\n",
       "      <td>6.2</td>\n",
       "      <td>3.4</td>\n",
       "      <td>5.4</td>\n",
       "      <td>2.3</td>\n",
       "      <td>Iris-virginica</td>\n",
       "    </tr>\n",
       "    <tr>\n",
       "      <th>149</th>\n",
       "      <td>5.9</td>\n",
       "      <td>3.0</td>\n",
       "      <td>5.1</td>\n",
       "      <td>1.8</td>\n",
       "      <td>Iris-virginica</td>\n",
       "    </tr>\n",
       "  </tbody>\n",
       "</table>\n",
       "<p>150 rows × 5 columns</p>\n",
       "</div>"
      ],
      "text/plain": [
       "     sepal_length  sepal_width  petal_length  petal_width           class\n",
       "0             5.1          3.5           1.4          0.2     Iris-setosa\n",
       "1             4.9          3.0           1.4          0.2     Iris-setosa\n",
       "2             4.7          3.2           1.3          0.2     Iris-setosa\n",
       "3             4.6          3.1           1.5          0.2     Iris-setosa\n",
       "4             5.0          3.6           1.4          0.2     Iris-setosa\n",
       "..            ...          ...           ...          ...             ...\n",
       "145           6.7          3.0           5.2          2.3  Iris-virginica\n",
       "146           6.3          2.5           5.0          1.9  Iris-virginica\n",
       "147           6.5          3.0           5.2          2.0  Iris-virginica\n",
       "148           6.2          3.4           5.4          2.3  Iris-virginica\n",
       "149           5.9          3.0           5.1          1.8  Iris-virginica\n",
       "\n",
       "[150 rows x 5 columns]"
      ]
     },
     "execution_count": 4,
     "metadata": {},
     "output_type": "execute_result"
    }
   ],
   "source": [
    "iris = pd.read_csv('iris.data', header=None, \n",
    "                   names=['sepal_length', 'sepal_width', 'petal_length', 'petal_width', 'class'])\n",
    "\n",
    "iris\n",
    "##using python is not in there"
   ]
  },
  {
   "cell_type": "code",
   "execution_count": 5,
   "id": "e0cd91ab",
   "metadata": {},
   "outputs": [],
   "source": [
    "setosa = iris[iris['class'] == \"Iris-setosa\"]\n",
    "versicolor = iris[iris['class'] == \"Iris-versicolor\"].reset_index()\n",
    "virginica = iris[iris['class'] == \"Iris-virginica\"].reset_index()"
   ]
  },
  {
   "cell_type": "code",
   "execution_count": 141,
   "id": "858c470e",
   "metadata": {},
   "outputs": [],
   "source": [
    "class KMeans:\n",
    "    \"\"\"Given some data, determines k means to be used for classification\"\"\"\n",
    "    def __init__(self, means):\n",
    "        self.means = []\n",
    "    \n",
    "    def train(self, data, k, c):\n",
    "        \"\"\"Run the k-means algorithm, stores the final means in self.means\"\"\"\n",
    "        # 1. choose k points at random from data\n",
    "        copy_data = np.copy(data)\n",
    "        np.random.shuffle(copy_data)\n",
    "        self.means = copy_data[:k] # grab the first k rows after a random shuff\n",
    "    \n",
    "        # 2. loop the following until self.means stops changing\n",
    "        #    - for each self.means as m, gather all rows of copy_data\n",
    "        #         for which m is the closest mean, call this group_m\n",
    "        count = 0\n",
    "        while count < c: # want to add a convergence check\n",
    "            #groups = np.array([np.zeros((0,4)), np.zeros((0,4)), np.zeros((0,4))]) # set of rows in copy_data for which self.means[i] is the closest mean\n",
    "                       # aggregated group as a matrix, rows are rows of data\n",
    "            groups = [[],[],[]]\n",
    "            for i in range(len(self.means)):\n",
    "                #print(group.shape)\n",
    "                for row in copy_data:\n",
    "                    #distances = []\n",
    "                    #print(row[:4] - self.means[0][:4])\n",
    "                    minimum = np.inf #la.norm(row[:4] - self.means[0][:4])\n",
    "                    min_mean = 0\n",
    "                    for j in range(len(self.means)):\n",
    "                        # calculate distance to self.means[i]\n",
    "                        dist = la.norm(row[:4] - self.means[j][:4])\n",
    "                        #print(dist)\n",
    "                        if not np.isnan(dist) and dist < minimum:\n",
    "                            minimum = dist\n",
    "                            min_mean = j\n",
    "                    # if min distance is at index i, then np.vstack([ group, row ])\n",
    "                    #print(f'{i} {min_mean}')\n",
    "                    if i == min_mean:\n",
    "                        #print(f'stacking {row} onto {groups[i]}')\n",
    "                        #print(f'stacked: {np.vstack([groups[i], row[:4]])}')\n",
    "                        groups[i] += [row[:4].astype('float64')]\n",
    "                        #groups[i] = np.vstack([groups[i],row[:4].astype('float64')])\n",
    "                        #print(np.array(groups[i]))\n",
    "                        #print(f'groups[{i}] = {groups[i]}')\n",
    "                count += 1\n",
    "                groups[i] = np.array(groups[i])\n",
    "            #    - re-assign self.means[m] = mean(group_m)\n",
    "            # self.means[i] = np.mean(group, axis=0)\n",
    "            #print(self.means[i])\n",
    "            self.means = [np.mean(group, axis=0) for group in groups]\n",
    "        print(f'self.means: {self.means}')\n",
    "        plt.scatter(iris['sepal_length'], iris['sepal_width'])\n",
    "        plt.scatter(self.means[0][0], self.means[0][1], c = 'red')\n",
    "        plt.scatter(self.means[1][0], self.means[1][1], c = 'green')\n",
    "        plt.scatter(self.means[2][0], self.means[2][1], c = 'orange')\n",
    "        plt.xlim(4,8)\n",
    "        plt.ylim(1.9,4.5)\n",
    "        return groups[0], groups[1], groups[2]\n",
    "    \n",
    "    def test(self, x, t1, t2, t3):\n",
    "        \"\"\"Return the mean closest to x among self.means\"\"\"\n",
    "        # find row of self.means that is the closest to x in euclidean distance\n",
    "        distances = []\n",
    "        dist1 = np.inf\n",
    "        dist2 = np.inf\n",
    "        dist3 = np.inf\n",
    "        print(t1[x][:2])\n",
    "        print(t2[x][:2])\n",
    "        print(t3[x][:2])\n",
    "        for i in range(len(self.means)):\n",
    "            mean = la.norm( self.means[i][:2] - t1[x][:2] )\n",
    "            if mean < dist1:\n",
    "                dist1 = mean\n",
    "        distances.append(dist1)\n",
    "        \n",
    "        for i in range(len(self.means)):\n",
    "            mean = la.norm( self.means[i][:2] - t2[x][:2] )\n",
    "            if mean < dist2:\n",
    "                dist2 = mean\n",
    "        distances.append(dist2)\n",
    "        \n",
    "        for i in range(len(self.means)):\n",
    "            mean = la.norm( self.means[i][:2] - t3[x][:2] )\n",
    "            if mean < dist3:\n",
    "                dist3 = mean\n",
    "        distances.append(dist3)\n",
    "        print(distances)\n",
    "        \n",
    "        # return it\n",
    "        minimum = min(distances)\n",
    "        for i in range(len(distances)):\n",
    "            if minimum == distances[i]:\n",
    "                return i"
   ]
  },
  {
   "cell_type": "code",
   "execution_count": 142,
   "id": "73eef066",
   "metadata": {
    "scrolled": false
   },
   "outputs": [
    {
     "name": "stdout",
     "output_type": "stream",
     "text": [
      "self.means: [array([5.88360656, 2.74098361, 4.38852459, 1.43442623]), array([6.85384615, 3.07692308, 5.71538462, 2.05384615]), array([5.006, 3.418, 1.464, 0.244])]\n"
     ]
    },
    {
     "data": {
      "image/png": "[encoded data removed]",
      "text/plain": [
       "<Figure size 432x288 with 1 Axes>"
      ]
     },
     "metadata": {
      "needs_background": "light"
     },
     "output_type": "display_data"
    }
   ],
   "source": [
    "kmeans = KMeans(3)\n",
    "s, ve, vi = kmeans.train(iris,3, 1000)"
   ]
  },
  {
   "cell_type": "code",
   "execution_count": 143,
   "id": "2b042188",
   "metadata": {
    "scrolled": true
   },
   "outputs": [
    {
     "name": "stdout",
     "output_type": "stream",
     "text": [
      "Size of True setosa list  50\n",
      "Size of KMeans setosa list  61\n",
      "Size of True versicolor list  50\n",
      "Size of KMeans versicolor list  39\n",
      "Size of True virginica list  50\n",
      "Size of KMeans virginica list  50\n"
     ]
    }
   ],
   "source": [
    "print(\"Size of True setosa list \",len(setosa))\n",
    "print(\"Size of KMeans setosa list \",len(s))\n",
    "\n",
    "print(\"Size of True versicolor list \",len(versicolor))\n",
    "print(\"Size of KMeans versicolor list \",len(ve))\n",
    "\n",
    "print(\"Size of True virginica list \",len(virginica))\n",
    "print(\"Size of KMeans virginica list \",len(vi))"
   ]
  },
  {
   "cell_type": "code",
   "execution_count": 144,
   "id": "aad02e64",
   "metadata": {},
   "outputs": [],
   "source": [
    "sw = []\n",
    "vew = []\n",
    "viw = []\n",
    "for i in range(len(s)):\n",
    "    sw.append(s[i][:2])\n",
    "sw = np.array(sw)\n",
    "#copy array for later use in test\n",
    "cpsw = np.array(sw)\n",
    "\n",
    "for i in range(len(ve)):\n",
    "    vew.append(ve[i][:2])\n",
    "vew = np.array(vew)\n",
    "cpvew = np.array(vew)\n",
    "\n",
    "for i in range(len(vi)):\n",
    "    viw.append(vi[i][:2])\n",
    "viw = np.array(viw)\n",
    "cpviw = np.array(viw)\n"
   ]
  },
  {
   "cell_type": "markdown",
   "id": "12d58b4d",
   "metadata": {},
   "source": [
    "## Comparison Between Original and KMeans Predicted points"
   ]
  },
  {
   "cell_type": "code",
   "execution_count": 145,
   "id": "e0f188a1",
   "metadata": {},
   "outputs": [
    {
     "data": {
      "text/plain": [
       "<matplotlib.legend.Legend at 0x275830408b0>"
      ]
     },
     "execution_count": 145,
     "metadata": {},
     "output_type": "execute_result"
    },
    {
     "data": {
      "image/png": "[encoded data removed]",
      "text/plain": [
       "<Figure size 432x288 with 1 Axes>"
      ]
     },
     "metadata": {
      "needs_background": "light"
     },
     "output_type": "display_data"
    }
   ],
   "source": [
    "#original\n",
    "plt.scatter(setosa['sepal_length'], setosa['sepal_width'], c = 'red')\n",
    "plt.scatter(versicolor['sepal_length'], versicolor['sepal_width'], c = 'green')\n",
    "plt.scatter(virginica['sepal_length'], virginica['sepal_width'], c = 'blue')\n",
    "plt.legend(['setosa', 'virginica', 'versicolor'])"
   ]
  },
  {
   "cell_type": "code",
   "execution_count": 146,
   "id": "9ae90195",
   "metadata": {
    "scrolled": false
   },
   "outputs": [
    {
     "data": {
      "text/plain": [
       "<matplotlib.legend.Legend at 0x2758314dd30>"
      ]
     },
     "execution_count": 146,
     "metadata": {},
     "output_type": "execute_result"
    },
    {
     "data": {
      "image/png": "[encoded data removed]",
      "text/plain": [
       "<Figure size 432x288 with 1 Axes>"
      ]
     },
     "metadata": {
      "needs_background": "light"
     },
     "output_type": "display_data"
    }
   ],
   "source": [
    "#Kmeans predicted\n",
    "sw = pd.DataFrame(sw)\n",
    "vew = pd.DataFrame(vew)\n",
    "viw = pd.DataFrame(viw)\n",
    "plt.scatter(sw[0],sw[1], c = 'red')\n",
    "plt.scatter(vew[0],vew[1], c = 'green')\n",
    "plt.scatter(viw[0],viw[1], c = 'blue')\n",
    "plt.legend(['versicolor', 'virginica', 'setosa'])"
   ]
  },
  {
   "cell_type": "code",
   "execution_count": 147,
   "id": "4e248bb6",
   "metadata": {},
   "outputs": [
    {
     "name": "stdout",
     "output_type": "stream",
     "text": [
      "[6.5 2.8]\n",
      "[7.2 3.2]\n",
      "[4.5 2.3]\n",
      "[0.4493255958926212, 0.36738319803875713, 1.2271756190537688]\n",
      "Mean with closest distance to chosen index value: Versicolor mean\n"
     ]
    }
   ],
   "source": [
    "#Checks which mean is closest to the given index value\n",
    "x = 10\n",
    "closest_mean = kmeans.test(x, cpsw, cpvew, cpviw)\n",
    "if(closest_mean == 0):\n",
    "    print(\"Mean with closest distance to  chosen index value: Setosa mean\")\n",
    "if(closest_mean == 1):\n",
    "    print(\"Mean with closest distance to chosen index value: Versicolor mean\")\n",
    "if(closest_mean == 2):\n",
    "    print(\"Mean with closest distance to chosen index value: Virginica mean\")"
   ]
  },
  {
   "cell_type": "markdown",
   "id": "a8443ae9",
   "metadata": {},
   "source": [
    "When k = 3 and the full dataset is used, the algorithm appears to be decently accurate in terms of distance to the given mean of a point. Though the data is not equal to the \"True\" data, given by the Iris dataset, the Kmeans algorithm clusters similar data better than the original data based off distance alone."
   ]
  },
  {
   "cell_type": "markdown",
   "id": "7c16d1f1",
   "metadata": {},
   "source": [
    "## 5. Using the iris dataset, test your kNN algorithm to predict which class a given iris belongs to.\n",
    "### (a) Show some confusion matrices for different size testing versus training datasets.\n",
    "### (b) How does the accuracy change for different size training sets? Show how the accuracy changes within the training set and testing set separately.\n",
    "### (c) What if you repeat this process, keeping the training fraction p the same? Does the accuracy change drastically based on the “quality” of the testing set? How might you quantify this behavior?"
   ]
  },
  {
   "cell_type": "code",
   "execution_count": 70,
   "id": "ca62164c",
   "metadata": {},
   "outputs": [
    {
     "name": "stdout",
     "output_type": "stream",
     "text": [
      "Testing for change in p:\n",
      "Test 1: For KNN, k = 5, p = .1, the confusion matrix for the iris data set is {'Correct': 109, 'Incorrect': 26}\n",
      "Test 2: For KNN, k = 5, p = .35, the confusion matrix for the iris data set is {'Correct': 95, 'Incorrect': 2}\n",
      "Test 3: For KNN, k = 5, p = .5, the confusion matrix for the iris data set is {'Correct': 73, 'Incorrect': 2}\n",
      "Test 4: For KNN, k = 5, p = .75, the confusion matrix for the iris data set is {'Correct': 35, 'Incorrect': 2}\n",
      "Test 5: For KNN, k = 5, p = .95, the confusion matrix for the iris data set is {'Correct': 7, 'Incorrect': 0}\n",
      "Testing for change in k:\n",
      "Test 6: For KNN, k = 3, p = .75, the confusion matrix for the iris data set is {'Correct': 37, 'Incorrect': 0}\n",
      "Test 7: For KNN, k = 5, p = .75, the confusion matrix for the iris data set is {'Correct': 37, 'Incorrect': 0}\n",
      "Test 8: For KNN, k = 11, p = .75, the confusion matrix for the iris data set is {'Correct': 33, 'Incorrect': 4}\n"
     ]
    }
   ],
   "source": [
    "#A) Show some confusion matrices for different size testing versus training datasets.\n",
    "print('Testing for change in p:')\n",
    "# Test 1 p = .1, k = 5\n",
    "tlist, plist = split_sets_iris(iris, .1)\n",
    "# Set the confusion matrix\n",
    "confusion_matrix = {\"Correct\": 0, \"Incorrect\": 0}\n",
    "# Create the class k = 5\n",
    "knn2 = KNN(5)\n",
    "# Train the data\n",
    "knn2.train(tlist)\n",
    "# Predict and populate the confusion matrix\n",
    "for i in plist:\n",
    "    check = knn2.predict(i[0])\n",
    "    if check == i[1]:\n",
    "        confusion_matrix[\"Correct\"] += 1\n",
    "    else:\n",
    "        confusion_matrix[\"Incorrect\"] += 1\n",
    "print(f'Test 1: For KNN, k = 5, p = .1, the confusion matrix for the iris data set is {confusion_matrix}')\n",
    "# Test 2 p = .35, k = 5\n",
    "tlist, plist = split_sets_iris(iris, .35)\n",
    "# Set the confusion matrix\n",
    "confusion_matrix = {\"Correct\": 0, \"Incorrect\": 0}\n",
    "# Create the class k = 5\n",
    "knn3 = KNN(5)\n",
    "# Train the data\n",
    "knn3.train(tlist)\n",
    "# Predict and populate the confusion matrix\n",
    "for i in plist:\n",
    "    check = knn3.predict(i[0])\n",
    "    if check == i[1]:\n",
    "        confusion_matrix[\"Correct\"] += 1\n",
    "    else:\n",
    "        confusion_matrix[\"Incorrect\"] += 1\n",
    "print(f'Test 2: For KNN, k = 5, p = .35, the confusion matrix for the iris data set is {confusion_matrix}')\n",
    "# Test 3 p = .5, k = 5\n",
    "tlist, plist = split_sets_iris(iris, .5)\n",
    "# Reset the confusion matrix\n",
    "confusion_matrix[\"Correct\"] = confusion_matrix[\"Incorrect\"] = 0\n",
    "# Create the class k = 5\n",
    "knn4 = KNN(5)\n",
    "# Train the data\n",
    "knn4.train(tlist)\n",
    "# Predict and populate the confusion matrix\n",
    "for i in plist:\n",
    "    check = knn4.predict(i[0])\n",
    "    if check == i[1]:\n",
    "        confusion_matrix[\"Correct\"] += 1\n",
    "    else:\n",
    "        confusion_matrix[\"Incorrect\"] += 1\n",
    "print(f'Test 3: For KNN, k = 5, p = .5, the confusion matrix for the iris data set is {confusion_matrix}')\n",
    "# Test 4 p = .75, k = 5\n",
    "tlist, plist = split_sets_iris(iris, .75)\n",
    "# Set the confusion matrix\n",
    "confusion_matrix = {\"Correct\": 0, \"Incorrect\": 0}\n",
    "# Create the class k = 5\n",
    "knn5 = KNN(5)\n",
    "# Train the data\n",
    "knn5.train(tlist)\n",
    "# Predict and populate the confusion matrix\n",
    "for i in plist:\n",
    "    check = knn5.predict(i[0])\n",
    "    if check == i[1]:\n",
    "        confusion_matrix[\"Correct\"] += 1\n",
    "    else:\n",
    "        confusion_matrix[\"Incorrect\"] += 1\n",
    "print(f'Test 4: For KNN, k = 5, p = .75, the confusion matrix for the iris data set is {confusion_matrix}')\n",
    "# Test 5 p = .95, k = 5\n",
    "tlist, plist = split_sets_iris(iris, .95)\n",
    "# Reset the confusion matrix\n",
    "confusion_matrix[\"Correct\"] = confusion_matrix[\"Incorrect\"] = 0\n",
    "# Create the class k = 5\n",
    "knn6 = KNN(5)\n",
    "# Train the data\n",
    "knn6.train(tlist)\n",
    "# Predict and populate the confusion matrix\n",
    "for i in plist:\n",
    "    check = knn6.predict(i[0])\n",
    "    if check == i[1]:\n",
    "        confusion_matrix[\"Correct\"] += 1\n",
    "    else:\n",
    "        confusion_matrix[\"Incorrect\"] += 1\n",
    "print(f'Test 5: For KNN, k = 5, p = .95, the confusion matrix for the iris data set is {confusion_matrix}')\n",
    "# TESTING FOR CHANGE IN K\n",
    "print('Testing for change in k:')\n",
    "# Test 6 p = .75, k = 3\n",
    "tlist, plist = split_sets_iris(iris, .75)\n",
    "# Reset the confusion matrix\n",
    "confusion_matrix[\"Correct\"] = confusion_matrix[\"Incorrect\"] = 0\n",
    "# Create the class k = 3\n",
    "knn7 = KNN(3)\n",
    "# Train the data\n",
    "knn7.train(tlist)\n",
    "# Predict and populate the confusion matrix\n",
    "for i in plist:\n",
    "    check = knn7.predict(i[0])\n",
    "    if check == i[1]:\n",
    "        confusion_matrix[\"Correct\"] += 1\n",
    "    else:\n",
    "        confusion_matrix[\"Incorrect\"] += 1\n",
    "print(f'Test 6: For KNN, k = 3, p = .75, the confusion matrix for the iris data set is {confusion_matrix}')\n",
    "# Test 7 p = .75, k = 5\n",
    "tlist, plist = split_sets_iris(iris, .75)\n",
    "# Reset the confusion matrix\n",
    "confusion_matrix[\"Correct\"] = confusion_matrix[\"Incorrect\"] = 0\n",
    "# Create the class k = 5\n",
    "knn8 = KNN(5)\n",
    "# Train the data\n",
    "knn8.train(tlist)\n",
    "# Predict and populate the confusion matrix\n",
    "for i in plist:\n",
    "    check = knn8.predict(i[0])\n",
    "    if check == i[1]:\n",
    "        confusion_matrix[\"Correct\"] += 1\n",
    "    else:\n",
    "        confusion_matrix[\"Incorrect\"] += 1\n",
    "print(f'Test 7: For KNN, k = 5, p = .75, the confusion matrix for the iris data set is {confusion_matrix}')\n",
    "# Test 8 p = .75, k = 11\n",
    "tlist, plist = split_sets_iris(iris, .75)\n",
    "# Reset the confusion matrix\n",
    "confusion_matrix[\"Correct\"] = confusion_matrix[\"Incorrect\"] = 0\n",
    "# Create the class k = 11\n",
    "knn9 = KNN(11)\n",
    "# Train the data\n",
    "knn9.train(tlist)\n",
    "# Predict and populate the confusion matrix\n",
    "for i in plist:\n",
    "    check = knn9.predict(i[0])\n",
    "    if check == i[1]:\n",
    "        confusion_matrix[\"Correct\"] += 1\n",
    "    else:\n",
    "        confusion_matrix[\"Incorrect\"] += 1\n",
    "print(f'Test 8: For KNN, k = 11, p = .75, the confusion matrix for the iris data set is {confusion_matrix}')"
   ]
  },
  {
   "cell_type": "markdown",
   "id": "15ec7297",
   "metadata": {},
   "source": [
    "#B)\n",
    "Each time this algorithm is run, results may vary because the machine might visualize a certain sample differently regardless of any changes to the code. Generally, the more points we add to the training set, the more correct our results will be because there are more points for the algorithm to base it's decision off of. For example: with 100 samples, we may only have 2 points around the desired point versus with 10,000 samples, we may have 5. If k=5, the result of this dataset would be different depending on what the machine is looking for. When we vary the size of the testing set, the error chance will also still vary. With either too many or too few values to predict, overtraining and undertraining can lead to a large error margin with either not enough for the algorithm to go off of, or having so many data points, the amount of points actually being predicted are so few. Since the prediction points are a random selection, certain points may be more apparent to decide than others, so with more identical points, the algorithm will have to work harder to compute these more \"critical points\" that could go either way."
   ]
  },
  {
   "cell_type": "markdown",
   "id": "6afb410c",
   "metadata": {},
   "source": [
    "#C)\n",
    "Upon repeating this process or algorithm continuously, the results will vary each time because the data of the training sets(or the choices the computer makes of certain values) will change on every run. Sometimes training points can be very close together, while other times, training points may be far apart and easier to decipher. On average, the closer the data is to one another, the less the data will vary each time. We could determine the quality of the data output based on how consistent and how accurate the data is by running it several times to find how much the output varies each time. Upon reaching a certain threshold of varience, we could determine data too innaccurate to reliably use. Each time the algorithm falls within the threshold, we would add 1 to the accurate counter, if outside, add 1 to the innaccuracy counter. After finding the fraction, use percentages to determine the probability of the algorithm to be reliable."
   ]
  },
  {
   "cell_type": "markdown",
   "id": "77f3ad8e",
   "metadata": {},
   "source": [
    "## 6. Try using the adult dataset to also do some prediction of income level (more or less than $50k).\n",
    "\n",
    "\n"
   ]
  },
  {
   "cell_type": "code",
   "execution_count": null,
   "id": "c1da30b7",
   "metadata": {},
   "outputs": [],
   "source": [
    "adults = pd.read_csv('adult.data',header=None, skipinitialspace=True,\n",
    "    names = ['age', 'workclass', 'fnlwgt', 'education','education-num', 'marital-status',\n",
    "            'occupation','relationship','race','sex','capital-gain','capital-loss',\n",
    "            'hours-per-week','native-country','income']\n",
    ")\n",
    "\n",
    "adults"
   ]
  },
  {
   "cell_type": "markdown",
   "id": "45b7c895",
   "metadata": {},
   "source": [
    "### (a) How can you try to quantify the “distance” between two adults? Write some small python functions to try and transform this data into something that can be used by the kNN classifier. Try a couple different approaches, report their different behaviors and illustrate using learning curves, confusion matrices, and possibly some statistical measurements."
   ]
  },
  {
   "cell_type": "markdown",
   "id": "7d6d82ab",
   "metadata": {},
   "source": [
    "Using numerical data in the adults dataset is the easiest way to quantify the \"distance\" between two adults. If comparing the income of the two adults, we can use hours-per-week, age, and education num to determine how much money the adults are making at  any point. We can split the data in terms of how long someone has worked as a type of distance, we can split the data in terms of how many years someone has of education since a higher education generally pays better, and lastly, we look at how many hours a week someone works split between \"more\" and \"less\" at a certain threshold. These three values can be used in our KNN classifier to determine the \"distance\" in the end."
   ]
  },
  {
   "cell_type": "code",
   "execution_count": null,
   "id": "532c6bb4",
   "metadata": {},
   "outputs": [],
   "source": [
    "#Classify income based on age, education-num, and hours worked per week\n",
    "def split_sets_adult(dataframe, train_p):\n",
    "    \"\"\"\n",
    "    Returns 2 lists of the necessary form\n",
    "    \"\"\"\n",
    "    assert(train_p < 1) # Make sure that p is a percentage\n",
    "    \n",
    "    # Split dataframe into training and test/prediction sets\n",
    "    train_count = int(dataframe.shape[0] * train_p)\n",
    "    predict_count = int(dataframe.shape[0] * (1 - train_p))\n",
    "    \n",
    "    #tmp_list = dataframe.values\n",
    "    \n",
    "    tmp_list = dataframe.values[:]\n",
    "    np.random.shuffle(tmp_list)\n",
    "    train_list = tmp_list[0:train_count]\n",
    "    predict_list = tmp_list[train_count+1:]\n",
    "    \n",
    "    #train_list = [ dataframe.values[random.randint(0,train_count-1)][0:4] for i in range(0, train_count) ]\n",
    "    #predict_list = [ dataframe.values[random.randint(0,train_count-1)][0:4] for i in range(0, predict_count) ]\n",
    "    \n",
    "    train_list = [(0,0) for _ in range(train_count)]\n",
    "    for i in range(0, train_count):\n",
    "        rand_row = tmp_list[random.randint(0, len(tmp_list) - 1)]\n",
    "        #train_list.append(([rand_row[0], rand_row[1], rand_row[2]], rand_row[3]))\n",
    "        train_list[i] = ([rand_row[0], rand_row[1], rand_row[2]], rand_row[3])\n",
    "\n",
    "\n",
    "    predict_list = [(0,0) for _ in range(predict_count)]\n",
    "    for i in range(0, predict_count):\n",
    "        rand_row = tmp_list[random.randint(0, len(tmp_list) - 1)]\n",
    "        #predict_list.append(([rand_row[0], rand_row[1], rand_row[2]], rand_row[3]))\n",
    "        predict_list[i] = ([rand_row[0], rand_row[1], rand_row[2]], rand_row[3])\n",
    "\n",
    "    #print(train_list)\n",
    "    #print(predict_list)\n",
    "    #print(len(train_list), len(predict_list))\n",
    "    \n",
    "    \n",
    "    return train_list, predict_list"
   ]
  },
  {
   "cell_type": "code",
   "execution_count": null,
   "id": "dc9a1006",
   "metadata": {},
   "outputs": [],
   "source": [
    "sub_data_1 = adults[['age', 'education-num', 'hours-per-week', 'income']]\n",
    "%prun split_sets_adult(sub_data_1, 0.1)"
   ]
  },
  {
   "cell_type": "markdown",
   "id": "898cb056",
   "metadata": {},
   "source": [
    "## Test 1"
   ]
  },
  {
   "cell_type": "code",
   "execution_count": null,
   "id": "c5dd9d06",
   "metadata": {
    "scrolled": true
   },
   "outputs": [],
   "source": [
    "sub_data_1 = adults[['age', 'education-num', 'hours-per-week', 'income']]\n",
    "\n",
    "# Set the training percentage values and the corresponding incorrect percentages\n",
    "train_percentage = [.01, .05, .1, .2, .3, .4, .5, .6]\n",
    "incorrect_percentage = [0, 0, 0, 0, 0, 0, 0, 0]\n",
    "# Run the algorithm for each value of p\n",
    "\n",
    "for index,tp in enumerate(train_percentage):\n",
    "    tlist, plist = split_sets_adult(sub_data_1, tp)\n",
    "\n",
    "    adult_knn = KNN(5)\n",
    "    adult_knn.train(tlist)\n",
    "    conf_mat = {\"Correct\": 0, \"Incorrect\": 0}\n",
    "    for ind,i in enumerate(plist):\n",
    "        check = adult_knn.predict(i[0])\n",
    "        if check == i[1]:\n",
    "            conf_mat[\"Correct\"] += 1\n",
    "        else:\n",
    "            conf_mat[\"Incorrect\"] += 1\n",
    "    print(f'Test {index + 1}: Adult data based off of age, education-num, and hr_per_week: The confusion matrix is {conf_mat}')\n",
    "    incorrect_percentage[index] = conf_mat[\"Incorrect\"] / (conf_mat[\"Correct\"] + conf_mat[\"Incorrect\"])\n",
    "\n",
    "plt.plot(train_percentage, incorrect_percentage, color='green')\n",
    "plt.title('Predicting Income Learning Curve: Error % as Training Increases (k = 5)')\n",
    "plt.xlabel('Training Percentage p')\n",
    "plt.ylabel('Percentage Incorrect')\n",
    "plt.show()"
   ]
  },
  {
   "cell_type": "markdown",
   "id": "396f9f31",
   "metadata": {},
   "source": [
    "Sample results from above:\n",
    "\n",
    "Test 1: Adult data based off of age, education-num, and hr_per_week: The confusion matrix is {'Correct': 24062, 'Incorrect': 8173}\n",
    "\n",
    "Test 2: Adult data based off of age, education-num, and hr_per_week: The confusion matrix is {'Correct': 23510, 'Incorrect': 7422}\n",
    "\n",
    "Test 3: Adult data based off of age, education-num, and hr_per_week: The confusion matrix is {'Correct': 22575, 'Incorrect': 6729}\n",
    "\n",
    "Test 4: Adult data based off of age, education-num, and hr_per_week: The confusion matrix is {'Correct': 19981, 'Incorrect': 6067}\n",
    "\n",
    "Test 5: Adult data based off of age, education-num, and hr_per_week: The confusion matrix is {'Correct': 17704, 'Incorrect': 5088}\n",
    "\n",
    "Test 6: Adult data based off of age, education-num, and hr_per_week: The confusion matrix is {'Correct': 15108, 'Incorrect': 4428}\n",
    "\n",
    "Test 7: Adult data based off of age, education-num, and hr_per_week: The confusion matrix is {'Correct': 12789, 'Incorrect': 3491}\n",
    "\n",
    "Test 8: Adult data based off of age, education-num, and hr_per_week: The confusion matrix is {'Correct': 10293, 'Incorrect': 2731}"
   ]
  },
  {
   "cell_type": "markdown",
   "id": "e6e6d6b2",
   "metadata": {},
   "source": [
    "## Test 2"
   ]
  },
  {
   "cell_type": "code",
   "execution_count": null,
   "id": "c4a4b2de",
   "metadata": {},
   "outputs": [],
   "source": [
    "# fix_sex Function => Creates unique values for each sex in the dataframe and returns the new dataframe\n",
    "def fix_sex(dataframe):\n",
    "    #dataframe['sex'] = dataframe['sex'].replace(['Male', 'Female'], [0, 1])\n",
    "    dataframe.loc[(dataframe.sex == 'Male'), 'sex'] = 0\n",
    "    dataframe.loc[(dataframe.sex == 'Female'), 'sex'] = 1\n",
    "    return dataframe"
   ]
  },
  {
   "cell_type": "code",
   "execution_count": null,
   "id": "e2e80da2",
   "metadata": {},
   "outputs": [],
   "source": [
    "# Test 2\n",
    "sub_data_2 = adults[['age', 'sex', 'capital-gain', 'income']]\n",
    "sub_data_2 = fix_sex(sub_data_2)\n",
    "\n",
    "# Set the training percentage values and the corresponding incorrect percentages\n",
    "train_percentage = [.01, .05, .1, .2, .3, .4, .5, .6]\n",
    "incorrect_percentage = [0, 0, 0, 0, 0, 0, 0, 0]\n",
    "# Run the algorithm for each value of p\n",
    "for index,tp in enumerate(train_percentage):\n",
    "    \n",
    "    tlist, plist = split_sets_adult(sub_data_2, tp)\n",
    "\n",
    "    adult_knn = KNN(5)\n",
    "    adult_knn.train(tlist)\n",
    "    conf_mat = {\"Correct\": 0, \"Incorrect\": 0}\n",
    "    for ind,i in enumerate(plist):\n",
    "        if ind > 2000:\n",
    "            break\n",
    "        check = adult_knn.predict(i[0])\n",
    "        if check == i[1]:\n",
    "            conf_mat[\"Correct\"] += 1\n",
    "        else:\n",
    "            conf_mat[\"Incorrect\"] += 1\n",
    "    print(f'Test {index + 1}: Adult data based off of age, sex, and capital_gain: The confusion matrix is {conf_mat}')\n",
    "    incorrect_percentage[index] = conf_mat[\"Incorrect\"] / (conf_mat[\"Correct\"] + conf_mat[\"Incorrect\"])\n",
    "\n",
    "plt.plot(train_percentage, incorrect_percentage, color='green')\n",
    "plt.title('Predicting Income Learning Curve: Error % as Training Increases (k = 5)')\n",
    "plt.xlabel('Training Percentage p')\n",
    "plt.ylabel('Percentage Incorrect')\n",
    "plt.show()"
   ]
  },
  {
   "cell_type": "markdown",
   "id": "2ffe553a",
   "metadata": {},
   "source": [
    "Sample data from above:\n",
    "\n",
    "Test 1: Adult data based off of age, sex, and capital_gain: The confusion matrix is {'Correct': 1520, 'Incorrect': 481}\n",
    "\n",
    "Test 2: Adult data based off of age, sex, and capital_gain: The confusion matrix is {'Correct': 1539, 'Incorrect': 462}\n",
    "\n",
    "Test 3: Adult data based off of age, sex, and capital_gain: The confusion matrix is {'Correct': 1581, 'Incorrect': 420}\n",
    "\n",
    "Test 4: Adult data based off of age, sex, and capital_gain: The confusion matrix is {'Correct': 1564, 'Incorrect': 437}\n",
    "\n",
    "Test 5: Adult data based off of age, sex, and capital_gain: The confusion matrix is {'Correct': 1504, 'Incorrect': 497}\n",
    "\n",
    "Test 6: Adult data based off of age, sex, and capital_gain: The confusion matrix is {'Correct': 1618, 'Incorrect': 383}\n",
    "\n",
    "Test 7: Adult data based off of age, sex, and capital_gain: The confusion matrix is {'Correct': 1565, 'Incorrect': 436}\n",
    "\n",
    "Test 8: Adult data based off of age, sex, and capital_gain: The confusion matrix is {'Correct': 1548, 'Incorrect': 453}"
   ]
  },
  {
   "cell_type": "markdown",
   "id": "54ebf9ca",
   "metadata": {},
   "source": [
    "\n",
    "### (b) Are there other “labels” within the dataset that can be effectively learned by the kNN classifier?"
   ]
  },
  {
   "cell_type": "markdown",
   "id": "be1f15c4",
   "metadata": {},
   "source": [
    "By setting an income of <=50K to 0 and >50K to 1, we can determine the distance between each person in a sample and guess what sex we think they are in the sample chosen because of the common fact of wage gaps between genders and trends of which genders tend to work specific jobs. For example, we can look at the lowest pay for a job in a group and the education num, a hypothesis to be made could be that it is more likely the sample will be a woman if they have a lower education and hours worked compared to men with the same statistics. \n",
    "\n",
    "A second test to be made could be occupation based on the gender of each sample chosen by assigning each gender a number (0,1). Each person's occupation is typically influenced by their gender, their income, and their work class. Though this is not 100% accurate, using more general observations will likely prove consistent. For example: certain high paying jobs are more likely to be in a specific work class and a specific gender could be more likely to be in a higher work class, thus transitively, we can hypothesize a certain gender in a certain work class are likely to make more money."
   ]
  },
  {
   "cell_type": "code",
   "execution_count": null,
   "id": "48bc76b2",
   "metadata": {},
   "outputs": [],
   "source": []
  }
 ],
 "metadata": {
  "kernelspec": {
   "display_name": "Python 3",
   "language": "python",
   "name": "python3"
  },
  "language_info": {
   "codemirror_mode": {
    "name": "ipython",
    "version": 3
   },
   "file_extension": ".py",
   "mimetype": "text/x-python",
   "name": "python",
   "nbconvert_exporter": "python",
   "pygments_lexer": "ipython3",
   "version": "3.8.8"
  }
 },
 "nbformat": 4,
 "nbformat_minor": 5
}
