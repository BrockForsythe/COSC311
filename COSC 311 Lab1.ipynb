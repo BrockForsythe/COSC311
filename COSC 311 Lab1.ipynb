{
 "cells": [
  {
   "cell_type": "code",
   "execution_count": 3,
   "id": "dc47f62d",
   "metadata": {},
   "outputs": [],
   "source": [
    "artists = [\n",
    "{ \"id\": 0, \"name\": \"NF\" },\n",
    "{ \"id\": 1, \"name\": \"Kenny Rogers\" },\n",
    "{ \"id\": 2, \"name\": \"Bruno Mars\"},\n",
    "{ \"id\": 3, \"name\": \"Sam Smith\"},\n",
    "{ \"id\": 4, \"name\": \"The Weeknd\"},\n",
    "{ \"id\": 5, \"name\": \"Nate Ruess\"},\n",
    "{ \"id\": 6, \"name\": \"Justin Beiber\"},\n",
    "{ \"id\": 7, \"name\": \"Harry Styles\"},\n",
    "{ \"id\": 8, \"name\": \"Phil Collins\"},\n",
    "{ \"id\": 9, \"name\": \"LMFAO\"},\n",
    "{ \"id\": 10, \"name\": \"Lil Nas X\"},\n",
    "]\n",
    "\n",
    "songs = [\n",
    "{ \"id\": 0, \"name\": \"Save Your Tears\" },\n",
    "{ \"id\": 1, \"name\": \"Leave the Door Open\" },\n",
    "{ \"id\": 2, \"name\": \"That's a Joke\"},\n",
    "{ \"id\": 3, \"name\": \"Peaches\"},\n",
    "{ \"id\": 4, \"name\": \"In the Air\"},\n",
    "{ \"id\": 5, \"name\": \"Stay\"},\n",
    "{ \"id\": 6, \"name\": \"Sexy and I Know It\"},\n",
    "{ \"id\": 7, \"name\": \"Montero\"},\n",
    "{ \"id\": 8, \"name\": \"Tonight\"},\n",
    "{ \"id\": 9, \"name\": \"Watermelon Sugar High\"},\n",
    "{ \"id\": 10, \"name\": \"Clouds\"},\n",
    "{ \"id\": 11, \"name\": \"Just Like You\"},\n",
    "{ \"id\": 12, \"name\": \"Layers\"},\n",
    "{ \"id\": 13, \"name\": \"The Gambler\"},\n",
    "{ \"id\": 14, \"name\": \"Grenade\"},\n",
    "{ \"id\": 15, \"name\": \"Pillow\"},\n",
    "]\n",
    " \n",
    "artist_songs = [\n",
    "                 (0,0), \n",
    "                 (1,1), (1,11),\n",
    "                 (2,2), (2,1),\n",
    "                 (3,3), (3,4), (3,8), (3,11),\n",
    "                 (4,4), \n",
    "                 (5,5), (5,2), (5,3),\n",
    "                 (6,6), (6,7),\n",
    "                 (7,7), (7,10),\n",
    "                 (8,8), (8,1), (8, 2), \n",
    "                 (9,9), (9,10), (9, 1)\n",
    "]"
   ]
  },
  {
   "cell_type": "code",
   "execution_count": 15,
   "id": "27933529",
   "metadata": {},
   "outputs": [],
   "source": [
    "def who_covered(song_name):\n",
    "    song_id = [i for i in songs if i['name'] == song_name]\n",
    "    print(song_id)\n",
    "    \n",
    "    artist_song = [i for i in artist_songs if i[1] == song_id[0]['id']]\n",
    "    artist_list = []\n",
    "    for i in artist_song:\n",
    "        for j in artists:\n",
    "            if i[0] == j['id']:\n",
    "                artist_list.append(j['name'])\n",
    "    return artist_list"
   ]
  },
  {
   "cell_type": "code",
   "execution_count": 16,
   "id": "64ce3a02",
   "metadata": {},
   "outputs": [
    {
     "name": "stdout",
     "output_type": "stream",
     "text": [
      "[{'id': 7, 'name': 'Montero'}]\n"
     ]
    },
    {
     "data": {
      "text/plain": [
       "['Justin Beiber', 'Harry Styles']"
      ]
     },
     "execution_count": 16,
     "metadata": {},
     "output_type": "execute_result"
    }
   ],
   "source": [
    "who_covered(\"Montero\")"
   ]
  },
  {
   "cell_type": "code",
   "execution_count": 27,
   "id": "b98c8383",
   "metadata": {},
   "outputs": [],
   "source": [
    "def shared_songs(artist_name):\n",
    "    artist_list_id = [i['id'] for i in artists if i['name'] == artist_name]\n",
    "    artist_songs_list = [i for i in artist_songs if i[0] == artist_list_id[0]]\n",
    "    \n",
    "    shared_song_list_id = []\n",
    "    for i in artist_songs_list:\n",
    "        for j in artist_songs:\n",
    "            if i == j:\n",
    "                if i[1] == j[1]:\n",
    "                    shared_song_list_id.append(j)\n",
    "                    break\n",
    "    shared_song_list = []\n",
    "    for i in shared_song_list_id:\n",
    "        for j in songs:\n",
    "            if j['id'] == i[1]:\n",
    "                shared_song_list.append(j['name'])\n",
    "    return shared_song_list"
   ]
  },
  {
   "cell_type": "code",
   "execution_count": 28,
   "id": "2319d080",
   "metadata": {},
   "outputs": [
    {
     "data": {
      "text/plain": [
       "['Save Your Tears']"
      ]
     },
     "execution_count": 28,
     "metadata": {},
     "output_type": "execute_result"
    }
   ],
   "source": [
    "shared_songs(\"NF\")"
   ]
  },
  {
   "cell_type": "code",
   "execution_count": 29,
   "id": "0f70c5db",
   "metadata": {},
   "outputs": [],
   "source": [
    "keywords = [\n",
    "    (0, \"blues\"), (0, \"Edm\"), (0, \"guitar\"),\n",
    "    (1, \"funk\"), (1, \"guitar\"), (1, \"male lead\"),\n",
    "    (2, \"hard rock\"), (2, \"awesome\"),\n",
    "    (3, \"hard rock\"), (3, \"slow\"),\n",
    "    (4, \"Edm\"), (4, \"hard\"),\n",
    "    (5, \"funk\"), (5, \"psychadelic\"),\n",
    "    (6, \"vibes\"), (6, \"slow\"),\n",
    "    (7, \"vibes\"), (7, \"slow\"),\n",
    "    (8, \"punk\"), (8, \"Edm\"),\n",
    "    (9, \"slow\"), (9, \"multiple singers\")\n",
    "]"
   ]
  },
  {
   "cell_type": "code",
   "execution_count": 30,
   "id": "4678a3bc",
   "metadata": {},
   "outputs": [],
   "source": [
    "def similar_artists(artist_name):\n",
    "    artist_id_list = [i[\"id\"] for i in artists if i[\"name\"] == artist_name]\n",
    "    \n",
    "    if (artist_id_list == []):\n",
    "        return None\n",
    "    \n",
    "    artist_keywords = [i[1] for i in keywords if i[0] == artist_id_list[0]]\n",
    "    \n",
    "    similar_artist_id = []\n",
    "    for i in artist_keywords:\n",
    "        for j in keywords:\n",
    "            if j[0] == artist_id_list[0]:\n",
    "                continue\n",
    "            if j[0] in similar_artist_id:\n",
    "                continue\n",
    "            if i == j[1]:\n",
    "                similar_artist_id.append(j[0])\n",
    "    \n",
    "    if similar_artist_id == []:\n",
    "        return None\n",
    "    \n",
    "    similar_artist_names = []\n",
    "    for i in similar_artist_id:\n",
    "        for j in artists:\n",
    "            if i == j[\"id\"]:\n",
    "                similar_artist_names.append(j[\"name\"])\n",
    "                \n",
    "    return similar_artist_names"
   ]
  },
  {
   "cell_type": "code",
   "execution_count": 31,
   "id": "48372bee",
   "metadata": {},
   "outputs": [
    {
     "data": {
      "text/plain": [
       "['The Weeknd', 'Phil Collins', 'Kenny Rogers']"
      ]
     },
     "execution_count": 31,
     "metadata": {},
     "output_type": "execute_result"
    }
   ],
   "source": [
    "similar_artists(\"NF\")"
   ]
  },
  {
   "cell_type": "markdown",
   "id": "3acbbf1d",
   "metadata": {},
   "source": [
    "<b>How can we visualize the “type” of each song? What styles and what types of\n",
    "artists tend to play each song?</b>\n",
    "\n",
    "You can use several types of charts: bar, line, clustered (in terms of styles within a genre). If you were to use a line or bar chart, you would have mountain or slope-like charts with certain genres having much more popularity. Unless you are like those people that \"listen to all music\". Those people are lying and are outliers in this example so we will disregard them completely. Using what I refer to as a \"cluster\" chart, this would look something like: I enjoy EDM music. There are several types of EDM music to factor in here such as: chillstep, house, hardstyle, and other variations that go deeper than the entire genre. Therefore, a cluster chart would display a population around specific styles withing a genre allowing more accurate results for a coorporation or company looking to monetize off this information. This again could all be pulled from the database using more attributes than what currently exist.\n",
    "\n",
    "a) By creating a bar chart of different genres like \"EDM, Vibes, Punk, Funk, etc... we could display different levels of interest in genres. Could also make a section for misc in case a song or songs don't fall into any particular category. Using this, we could filter the top 3 or so categories and, if we were Spotify or another music app, could recommend their top 3 categories by finding playlists with music that best contains their interests to keep the user interested in the app and listening on our platform.\n",
    "\n",
    "b) Using pandas and matplotlib, we could plot the data into a graphic display to use more effectively. From the little experience I have, I know you can use pd.matplotlib(bar, ...) something like this, to plot data from a certain list into a chart to auto fill the cells. This would be useful if a company wanted to see the top genres of the week, month, or year in order to best sell to their users, thus raising profits for the company themselves with users staying on their platform.\n",
    "\n",
    "c) To summarize the above statements to answer this question, I could use the above functions to find a user's personal music interests and genre taste. Once I have this information, I can create a visual with MathPlotLib and Pandas to display this to the company for more widespread effect. Once data is quantified, I can target the user by taking their input stored in the \"database\" and recommend them playlists based on the top 3 or 5 genres they have listed. On top of this, create combined playlists with several of their top genres for even more efficiency."
   ]
  },
  {
   "cell_type": "code",
   "execution_count": null,
   "id": "ca0da7a3",
   "metadata": {},
   "outputs": [],
   "source": []
  }
 ],
 "metadata": {
  "kernelspec": {
   "display_name": "Python 3",
   "language": "python",
   "name": "python3"
  },
  "language_info": {
   "codemirror_mode": {
    "name": "ipython",
    "version": 3
   },
   "file_extension": ".py",
   "mimetype": "text/x-python",
   "name": "python",
   "nbconvert_exporter": "python",
   "pygments_lexer": "ipython3",
   "version": "3.8.8"
  }
 },
 "nbformat": 4,
 "nbformat_minor": 5
}
